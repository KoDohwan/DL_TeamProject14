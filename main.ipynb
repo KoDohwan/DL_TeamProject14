{
 "cells": [
  {
   "cell_type": "code",
   "execution_count": 1,
   "metadata": {},
   "outputs": [
    {
     "name": "stdout",
     "output_type": "stream",
     "text": [
      "TITAN RTX\n"
     ]
    }
   ],
   "source": [
    "import torch\n",
    "import torch.nn as nn\n",
    "import torch.optim as optim\n",
    "from torch.optim import lr_scheduler\n",
    "\n",
    "import torchvision\n",
    "import torchvision.transforms as transforms\n",
    "\n",
    "import torchattacks\n",
    "\n",
    "import matplotlib.pyplot as plt\n",
    "from sklearn.metrics.pairwise import cosine_similarity\n",
    "import numpy as np\n",
    "import os\n",
    "import sys\n",
    "\n",
    "from tqdm import tqdm\n",
    "\n",
    "from resnet import ResNet18\n",
    "from data_aug import collect_advs, AdvDataSet"
   ]
  },
  {
   "cell_type": "code",
   "execution_count": 2,
   "metadata": {},
   "outputs": [
    {
     "name": "stdout",
     "output_type": "stream",
     "text": [
      "TITAN RTX\n"
     ]
    },
    {
     "data": {
      "text/plain": [
       "device(type='cuda', index=1)"
      ]
     },
     "execution_count": 2,
     "metadata": {},
     "output_type": "execute_result"
    }
   ],
   "source": [
    "if torch.cuda.is_available() == True:\n",
    "    device = torch.device('cuda:1')\n",
    "    print(torch.cuda.get_device_name())\n",
    "else:\n",
    "    device = torch.device('cpu')\n",
    "device"
   ]
  },
  {
   "cell_type": "code",
   "execution_count": 3,
   "metadata": {},
   "outputs": [],
   "source": [
    "batch_size = 128\n",
    "classes = ('plane', 'car', 'bird', 'cat', 'deer', 'dog', 'frog', 'horse', 'ship', 'truck')\n",
    "\n",
    "def load_data():    \n",
    "    transform_train = transforms.Compose([transforms.RandomCrop(32, padding=4), transforms.RandomHorizontalFlip(), \n",
    "                                    transforms.ToTensor(), transforms.Normalize((0.4914, 0.4822, 0.4465), (0.2023, 0.1994, 0.2010))])\n",
    "    transform_test = transforms.Compose([transforms.ToTensor(), transforms.Normalize((0.4914, 0.4822, 0.4465), (0.2023, 0.1994, 0.2010))])\n",
    "    transform_test = transforms.Compose([transforms.ToTensor()])\n",
    "\n",
    "    trainset = torchvision.datasets.CIFAR10(root='./data', train=True, download=True, transform=transform_test)\n",
    "    train_loader = torch.utils.data.DataLoader(trainset, batch_size=batch_size, shuffle=True)\n",
    "\n",
    "    testset = torchvision.datasets.CIFAR10(root='./data', train=False, download=True, transform=transform_test)\n",
    "    test_loader = torch.utils.data.DataLoader(testset, batch_size=batch_size, shuffle=False)\n",
    "    \n",
    "    dataset = {'train': trainset, 'test': testset}\n",
    "    data_loader = {'train': train_loader, 'test': test_loader}\n",
    "    return dataset, data_loader\n",
    "\n",
    "def load_iter(data_loader, data_type):\n",
    "    bar_format = '{bar:30} {n_fmt}/{total_fmt} [{elapsed}<{remaining} {rate_fmt}] {desc}'\n",
    "    \n",
    "    if data_type == 'train':\n",
    "        train_loader = data_loader['train']\n",
    "        train_iter = tqdm(enumerate(train_loader), total=len(train_loader), unit_scale=batch_size, bar_format=bar_format)\n",
    "        return train_iter\n",
    "    elif data_type == 'test':\n",
    "        test_loader = data_loader['test']\n",
    "        test_iter = tqdm(enumerate(test_loader), total=len(test_loader), unit_scale=batch_size, bar_format=bar_format)\n",
    "        return test_iter\n",
    "    else:\n",
    "        print('Data Error!!!')"
   ]
  },
  {
   "cell_type": "code",
   "execution_count": 4,
   "metadata": {},
   "outputs": [],
   "source": [
    "def imshow(img):\n",
    "    npimg = img.cpu().detach().numpy()\n",
    "    plt.imshow(np.transpose(npimg, (1, 2, 0)))\n",
    "    plt.show()"
   ]
  },
  {
   "cell_type": "code",
   "execution_count": 5,
   "metadata": {},
   "outputs": [],
   "source": [
    "def train(model):\n",
    "    model.train()\n",
    "    train_loss = 0\n",
    "    total = 0\n",
    "    correct = 0\n",
    "    step = 0\n",
    "    train_iter = load_iter(data_loader, 'train')\n",
    "    for i, (batch, label) in train_iter:\n",
    "        batch, label = batch.to(device), label.to(device)\n",
    "        output = model(batch)\n",
    "        \n",
    "        optimizer.zero_grad()\n",
    "        loss = loss_function(output, label)\n",
    "        loss.backward()\n",
    "        optimizer.step()\n",
    "        \n",
    "        train_loss += loss.item()\n",
    "        _, predicted = output.max(1)\n",
    "        total += label.size(0)\n",
    "        correct += predicted.eq(label).sum().item()\n",
    "\n",
    "        acc = 100. * correct / total\n",
    "        train_iter.set_description(f'[{acc:.2f}% ({correct}/{total})]', True)"
   ]
  },
  {
   "cell_type": "code",
   "execution_count": 6,
   "metadata": {},
   "outputs": [],
   "source": [
    "def test(model):\n",
    "    model.eval()\n",
    "    test_loss = 0\n",
    "    correct = 0\n",
    "    total = 0\n",
    "    acc = 0.\n",
    "    test_iter = load_iter(data_loader, 'test')\n",
    "\n",
    "    for i, (batch, label) in test_iter:\n",
    "        batch, label = batch.to(device), label.to(device)\n",
    "        output = model(batch)\n",
    "        loss = loss_function(output, label)\n",
    "\n",
    "        test_loss += loss.item()\n",
    "        _, predicted = output.max(1)\n",
    "        total += label.size(0)\n",
    "        correct += predicted.eq(label).sum().item()\n",
    "\n",
    "        acc = 100. * correct / total\n",
    "        test_iter.set_description(f'[{acc:.2f}%({correct}/{total})]', True)\n",
    "    return acc"
   ]
  },
  {
   "cell_type": "code",
   "execution_count": 7,
   "metadata": {},
   "outputs": [],
   "source": [
    "def save_model(epoch, acc, optimizer):\n",
    "    global best_acc\n",
    "    if acc > best_acc:\n",
    "        state = {\n",
    "            'model': model.state_dict(),\n",
    "            'acc': acc,\n",
    "            'epoch': epoch,\n",
    "            'optimizer': optimizer.state_dict()\n",
    "        }\n",
    "        if not os.path.isdir('models'):\n",
    "            os.mkdir('models')\n",
    "        torch.save(state, f'./models/model_{epoch}.pth')\n",
    "        best_acc = acc\n",
    "        print('Saving Model...')\n",
    "\n",
    "def load_model(name):\n",
    "    state_dict = torch.load(f'./models/{name}.pth', map_location=device)\n",
    "    model = ResNet18()\n",
    "    model.to(device)\n",
    "    model.load_state_dict(state_dict['model'])\n",
    "    optimizer = optim.SGD(model.parameters(), lr=1e-1, momentum=0.9, weight_decay=1e-4)\n",
    "#     optimizer.load_state_dict(state_dict['optimizer'])\n",
    "    return model, optimizer"
   ]
  },
  {
   "cell_type": "code",
   "execution_count": 20,
   "metadata": {},
   "outputs": [
    {
     "name": "stdout",
     "output_type": "stream",
     "text": [
      "Files already downloaded and verified\n",
      "Files already downloaded and verified\n"
     ]
    },
    {
     "name": "stderr",
     "output_type": "stream",
     "text": [
      "▏                              256/50048 [00:00<00:30 1627.43it/s] [10.94% (28/256)]: "
     ]
    },
    {
     "name": "stdout",
     "output_type": "stream",
     "text": [
      "Epoch 1\n",
      "torch.Size([128, 10])\n",
      "torch.Size([128, 10])\n",
      "torch.Size([128, 10])\n"
     ]
    },
    {
     "name": "stderr",
     "output_type": "stream",
     "text": [
      "▍                              768/50048 [00:00<00:28 1719.90it/s] [13.93% (107/768)]: "
     ]
    },
    {
     "name": "stdout",
     "output_type": "stream",
     "text": [
      "torch.Size([128, 10])\n",
      "torch.Size([128, 10])\n",
      "torch.Size([128, 10])\n"
     ]
    },
    {
     "name": "stderr",
     "output_type": "stream",
     "text": [
      "▌                              1024/50048 [00:00<00:27 1758.41it/s] [14.67% (169/1152)]: "
     ]
    },
    {
     "name": "stdout",
     "output_type": "stream",
     "text": [
      "torch.Size([128, 10])\n",
      "torch.Size([128, 10])\n",
      "torch.Size([128, 10])\n"
     ]
    },
    {
     "name": "stderr",
     "output_type": "stream",
     "text": [
      "▉                              1536/50048 [00:00<00:26 1811.47it/s] [15.43% (237/1536)]: "
     ]
    },
    {
     "name": "stdout",
     "output_type": "stream",
     "text": [
      "torch.Size([128, 10])\n",
      "torch.Size([128, 10])\n",
      "torch.Size([128, 10])\n"
     ]
    },
    {
     "name": "stderr",
     "output_type": "stream",
     "text": [
      "█                              1792/50048 [00:01<00:26 1827.18it/s] [16.61% (319/1920)]: "
     ]
    },
    {
     "name": "stdout",
     "output_type": "stream",
     "text": [
      "torch.Size([128, 10])\n",
      "torch.Size([128, 10])\n",
      "torch.Size([128, 10])\n"
     ]
    },
    {
     "name": "stderr",
     "output_type": "stream",
     "text": [
      "█▍                             2304/50048 [00:01<00:25 1847.77it/s] [17.36% (400/2304)]: "
     ]
    },
    {
     "name": "stdout",
     "output_type": "stream",
     "text": [
      "torch.Size([128, 10])\n",
      "torch.Size([128, 10])\n",
      "torch.Size([128, 10])\n"
     ]
    },
    {
     "name": "stderr",
     "output_type": "stream",
     "text": [
      "█▌                             2560/50048 [00:01<00:25 1853.14it/s] [18.42% (495/2688)]: "
     ]
    },
    {
     "name": "stdout",
     "output_type": "stream",
     "text": [
      "torch.Size([128, 10])\n",
      "torch.Size([128, 10])\n",
      "torch.Size([128, 10])\n"
     ]
    },
    {
     "name": "stderr",
     "output_type": "stream",
     "text": [
      "█▊                             3072/50048 [00:01<00:25 1859.72it/s] [19.17% (589/3072)]: "
     ]
    },
    {
     "name": "stdout",
     "output_type": "stream",
     "text": [
      "torch.Size([128, 10])\n",
      "torch.Size([128, 10])\n",
      "torch.Size([128, 10])\n"
     ]
    },
    {
     "name": "stderr",
     "output_type": "stream",
     "text": [
      "█▉                             3328/50048 [00:01<00:25 1858.46it/s] [19.79% (684/3456)]: "
     ]
    },
    {
     "name": "stdout",
     "output_type": "stream",
     "text": [
      "torch.Size([128, 10])\n",
      "torch.Size([128, 10])\n",
      "torch.Size([128, 10])\n"
     ]
    },
    {
     "name": "stderr",
     "output_type": "stream",
     "text": [
      "██▏                            3584/50048 [00:02<00:26 1774.67it/s] [20.09% (720/3584)]: "
     ]
    },
    {
     "name": "stdout",
     "output_type": "stream",
     "text": [
      "torch.Size([128, 10])\n",
      "torch.Size([128, 10])\n"
     ]
    },
    {
     "name": "stderr",
     "output_type": "stream",
     "text": [
      "\n"
     ]
    },
    {
     "ename": "KeyboardInterrupt",
     "evalue": "",
     "output_type": "error",
     "traceback": [
      "\u001b[0;31m---------------------------------------------------------------------------\u001b[0m",
      "\u001b[0;31mKeyboardInterrupt\u001b[0m                         Traceback (most recent call last)",
      "\u001b[0;32m<ipython-input-20-7a24ce21f92d>\u001b[0m in \u001b[0;36m<module>\u001b[0;34m\u001b[0m\n\u001b[1;32m      9\u001b[0m \u001b[0;32mfor\u001b[0m \u001b[0mepoch\u001b[0m \u001b[0;32min\u001b[0m \u001b[0mrange\u001b[0m\u001b[0;34m(\u001b[0m\u001b[0;36m1\u001b[0m\u001b[0;34m,\u001b[0m \u001b[0;36m51\u001b[0m\u001b[0;34m)\u001b[0m\u001b[0;34m:\u001b[0m\u001b[0;34m\u001b[0m\u001b[0;34m\u001b[0m\u001b[0m\n\u001b[1;32m     10\u001b[0m     \u001b[0mprint\u001b[0m\u001b[0;34m(\u001b[0m\u001b[0;34mf'Epoch {epoch}'\u001b[0m\u001b[0;34m)\u001b[0m\u001b[0;34m\u001b[0m\u001b[0;34m\u001b[0m\u001b[0m\n\u001b[0;32m---> 11\u001b[0;31m     \u001b[0mtrain\u001b[0m\u001b[0;34m(\u001b[0m\u001b[0mmodel\u001b[0m\u001b[0;34m)\u001b[0m\u001b[0;34m\u001b[0m\u001b[0;34m\u001b[0m\u001b[0m\n\u001b[0m\u001b[1;32m     12\u001b[0m     \u001b[0mtest_acc\u001b[0m \u001b[0;34m=\u001b[0m \u001b[0mtest\u001b[0m\u001b[0;34m(\u001b[0m\u001b[0mmodel\u001b[0m\u001b[0;34m)\u001b[0m\u001b[0;34m\u001b[0m\u001b[0;34m\u001b[0m\u001b[0m\n\u001b[1;32m     13\u001b[0m     \u001b[0msave_model\u001b[0m\u001b[0;34m(\u001b[0m\u001b[0mepoch\u001b[0m\u001b[0;34m,\u001b[0m \u001b[0mtest_acc\u001b[0m\u001b[0;34m,\u001b[0m \u001b[0moptimizer\u001b[0m\u001b[0;34m)\u001b[0m\u001b[0;34m\u001b[0m\u001b[0;34m\u001b[0m\u001b[0m\n",
      "\u001b[0;32m<ipython-input-19-d897c6aa0eb7>\u001b[0m in \u001b[0;36mtrain\u001b[0;34m(model)\u001b[0m\n\u001b[1;32m     16\u001b[0m         \u001b[0moptimizer\u001b[0m\u001b[0;34m.\u001b[0m\u001b[0mstep\u001b[0m\u001b[0;34m(\u001b[0m\u001b[0;34m)\u001b[0m\u001b[0;34m\u001b[0m\u001b[0;34m\u001b[0m\u001b[0m\n\u001b[1;32m     17\u001b[0m \u001b[0;34m\u001b[0m\u001b[0m\n\u001b[0;32m---> 18\u001b[0;31m         \u001b[0mtrain_loss\u001b[0m \u001b[0;34m+=\u001b[0m \u001b[0mloss\u001b[0m\u001b[0;34m.\u001b[0m\u001b[0mitem\u001b[0m\u001b[0;34m(\u001b[0m\u001b[0;34m)\u001b[0m\u001b[0;34m\u001b[0m\u001b[0;34m\u001b[0m\u001b[0m\n\u001b[0m\u001b[1;32m     19\u001b[0m         \u001b[0m_\u001b[0m\u001b[0;34m,\u001b[0m \u001b[0mpredicted\u001b[0m \u001b[0;34m=\u001b[0m \u001b[0moutput\u001b[0m\u001b[0;34m.\u001b[0m\u001b[0mmax\u001b[0m\u001b[0;34m(\u001b[0m\u001b[0;36m1\u001b[0m\u001b[0;34m)\u001b[0m\u001b[0;34m\u001b[0m\u001b[0;34m\u001b[0m\u001b[0m\n\u001b[1;32m     20\u001b[0m         \u001b[0mtotal\u001b[0m \u001b[0;34m+=\u001b[0m \u001b[0mlabel\u001b[0m\u001b[0;34m.\u001b[0m\u001b[0msize\u001b[0m\u001b[0;34m(\u001b[0m\u001b[0;36m0\u001b[0m\u001b[0;34m)\u001b[0m\u001b[0;34m\u001b[0m\u001b[0;34m\u001b[0m\u001b[0m\n",
      "\u001b[0;31mKeyboardInterrupt\u001b[0m: "
     ]
    }
   ],
   "source": [
    "# Training\n",
    "model = ResNet18()\n",
    "model.to(device)\n",
    "loss_function = nn.CrossEntropyLoss()\n",
    "optimizer = optim.SGD(model.parameters(), lr=1e-1, momentum=0.9, weight_decay=1e-4)\n",
    "scheduler = lr_scheduler.MultiStepLR(optimizer, milestones=[25, 35])\n",
    "best_acc = 0\n",
    "dataset, data_loader = load_data()\n",
    "for epoch in range(1, 51):\n",
    "    print(f'Epoch {epoch}')\n",
    "    train(model)\n",
    "    test_acc = test(model)\n",
    "    save_model(epoch, test_acc, optimizer)\n",
    "    scheduler.step()"
   ]
  },
  {
   "cell_type": "code",
   "execution_count": 20,
   "metadata": {
    "scrolled": false
   },
   "outputs": [
    {
     "name": "stdout",
     "output_type": "stream",
     "text": [
      "Files already downloaded and verified\n",
      "Files already downloaded and verified\n"
     ]
    },
    {
     "name": "stderr",
     "output_type": "stream",
     "text": [
      "██████████████████████████████ 10112/10112 [00:01<00:00 5482.08it/s] [87.17%(8717/10000)]: \n"
     ]
    },
    {
     "data": {
      "text/plain": [
       "87.17"
      ]
     },
     "execution_count": 20,
     "metadata": {},
     "output_type": "execute_result"
    }
   ],
   "source": [
    "# Validation\n",
    "model, optimizer = load_model('baseline_2')\n",
    "loss_function = nn.CrossEntropyLoss()\n",
    "dataset, data_loader = load_data()\n",
    "test(model)"
   ]
  },
  {
   "cell_type": "markdown",
   "metadata": {},
   "source": [
    "## Adversarial Training"
   ]
  },
  {
   "cell_type": "code",
   "execution_count": 38,
   "metadata": {},
   "outputs": [],
   "source": [
    "def adv_train(baseline, model):\n",
    "    model.train()\n",
    "    train_loss = 0\n",
    "    total = 0\n",
    "    correct = 0\n",
    "    step = 0\n",
    "    count = 0\n",
    "    train_iter = load_iter(data_loader, 'train')\n",
    "    for i, (batch, label) in train_iter:\n",
    "        batch, label = batch.to(device), label.to(device)\n",
    "        adv_batch = atk(batch, label)\n",
    "        \n",
    "        _, pred = baseline(batch).max(1)\n",
    "        _, adv_pred = baseline(adv_batch).max(1)\n",
    "        latent_vec = baseline.load_vec()\n",
    "        \n",
    "        output = model(batch)\n",
    "        adv_output = model(adv_batch)\n",
    "        \n",
    "        \n",
    "        for j, equal in enumerate(pred.eq(adv_pred)):\n",
    "            dis = distance(latent_vec[j], weight[label[j].item()], bias[label[j].item()])\n",
    "            if not equal and dis <= boundary_dict[label[j].item()]['bot_20']:\n",
    "                count += 1\n",
    "                output[j] = 0.5 * output[j] + 0.5 * adv_output[j]\n",
    "    \n",
    "        optimizer.zero_grad()\n",
    "        loss = loss_function(output, label)\n",
    "        loss.backward()\n",
    "        optimizer.step()\n",
    "        \n",
    "        train_loss += loss.item()\n",
    "        _, predicted = output.max(1)\n",
    "        total += label.size(0)\n",
    "        correct += predicted.eq(label).sum().item()\n",
    "\n",
    "        acc = 100. * correct / total\n",
    "        train_iter.set_description(f'[{acc:.2f}% ({correct}/{total})] [{count}]', True)"
   ]
  },
  {
   "cell_type": "code",
   "execution_count": 39,
   "metadata": {},
   "outputs": [
    {
     "name": "stdout",
     "output_type": "stream",
     "text": [
      "Files already downloaded and verified\n",
      "Files already downloaded and verified\n"
     ]
    },
    {
     "name": "stderr",
     "output_type": "stream",
     "text": [
      "\r",
      "                               0/50048 [00:00<? ?it/s] "
     ]
    },
    {
     "name": "stdout",
     "output_type": "stream",
     "text": [
      "Epoch 1\n"
     ]
    },
    {
     "name": "stderr",
     "output_type": "stream",
     "text": [
      "██████████████████████████████ 50048/50048 [01:28<00:00 567.30it/s] [45.30% (22649/50000)] [5068]: \n",
      "██████████████████████████████ 10112/10112 [00:01<00:00 5639.74it/s] [54.34%(5434/10000)]: \n",
      "                               0/50048 [00:00<? ?it/s] "
     ]
    },
    {
     "name": "stdout",
     "output_type": "stream",
     "text": [
      "Saving Model...\n",
      "Epoch 2\n"
     ]
    },
    {
     "name": "stderr",
     "output_type": "stream",
     "text": [
      "██████████████████████████████ 50048/50048 [01:28<00:00 565.96it/s] [67.32% (33660/50000)] [5090]: \n",
      "██████████████████████████████ 10112/10112 [00:01<00:00 5573.48it/s] [72.63%(7263/10000)]: \n",
      "                               0/50048 [00:00<? ?it/s] "
     ]
    },
    {
     "name": "stdout",
     "output_type": "stream",
     "text": [
      "Saving Model...\n",
      "Epoch 3\n"
     ]
    },
    {
     "name": "stderr",
     "output_type": "stream",
     "text": [
      "██████████████████████████████ 50048/50048 [01:28<00:00 564.97it/s] [76.60% (38302/50000)] [5093]: \n",
      "██████████████████████████████ 10112/10112 [00:01<00:00 5611.79it/s] [75.76%(7576/10000)]: \n",
      "                               0/50048 [00:00<? ?it/s] "
     ]
    },
    {
     "name": "stdout",
     "output_type": "stream",
     "text": [
      "Saving Model...\n",
      "Epoch 4\n"
     ]
    },
    {
     "name": "stderr",
     "output_type": "stream",
     "text": [
      "██████████████████████████████ 50048/50048 [01:28<00:00 566.30it/s] [81.83% (40914/50000)] [5050]: \n",
      "██████████████████████████████ 10112/10112 [00:01<00:00 5811.31it/s] [80.03%(8003/10000)]: \n",
      "                               0/50048 [00:00<? ?it/s] "
     ]
    },
    {
     "name": "stdout",
     "output_type": "stream",
     "text": [
      "Saving Model...\n",
      "Epoch 5\n"
     ]
    },
    {
     "name": "stderr",
     "output_type": "stream",
     "text": [
      "██████████████████████████████ 50048/50048 [01:28<00:00 563.82it/s] [85.64% (42818/50000)] [5012]: \n",
      "██████████████████████████████ 10112/10112 [00:01<00:00 5608.14it/s] [81.50%(8150/10000)]: \n",
      "                               0/50048 [00:00<? ?it/s] "
     ]
    },
    {
     "name": "stdout",
     "output_type": "stream",
     "text": [
      "Saving Model...\n",
      "Epoch 6\n"
     ]
    },
    {
     "name": "stderr",
     "output_type": "stream",
     "text": [
      "██████████████████████████████ 50048/50048 [01:28<00:00 563.82it/s] [88.23% (44116/50000)] [5134]: \n",
      "██████████████████████████████ 10112/10112 [00:01<00:00 5613.13it/s] [81.55%(8155/10000)]: \n",
      "                               0/50048 [00:00<? ?it/s] "
     ]
    },
    {
     "name": "stdout",
     "output_type": "stream",
     "text": [
      "Saving Model...\n",
      "Epoch 7\n"
     ]
    },
    {
     "name": "stderr",
     "output_type": "stream",
     "text": [
      "██████████████████████████████ 50048/50048 [01:28<00:00 564.10it/s] [90.77% (45386/50000)] [5037]: \n",
      "██████████████████████████████ 10112/10112 [00:01<00:00 5612.54it/s] [82.61%(8261/10000)]: \n",
      "                               0/50048 [00:00<? ?it/s] "
     ]
    },
    {
     "name": "stdout",
     "output_type": "stream",
     "text": [
      "Saving Model...\n",
      "Epoch 8\n"
     ]
    },
    {
     "name": "stderr",
     "output_type": "stream",
     "text": [
      "██████████████████████████████ 50048/50048 [01:28<00:00 563.98it/s] [92.90% (46451/50000)] [5058]: \n",
      "██████████████████████████████ 10112/10112 [00:01<00:00 5605.09it/s] [84.03%(8403/10000)]: \n",
      "                               0/50048 [00:00<? ?it/s] "
     ]
    },
    {
     "name": "stdout",
     "output_type": "stream",
     "text": [
      "Saving Model...\n",
      "Epoch 9\n"
     ]
    },
    {
     "name": "stderr",
     "output_type": "stream",
     "text": [
      "██████████████████████████████ 50048/50048 [01:28<00:00 564.03it/s] [94.11% (47053/50000)] [5072]: \n",
      "██████████████████████████████ 10112/10112 [00:01<00:00 5620.08it/s] [83.66%(8366/10000)]: \n",
      "                               0/50048 [00:00<? ?it/s] "
     ]
    },
    {
     "name": "stdout",
     "output_type": "stream",
     "text": [
      "Epoch 10\n"
     ]
    },
    {
     "name": "stderr",
     "output_type": "stream",
     "text": [
      "██████████████████████████████ 50048/50048 [01:28<00:00 564.54it/s] [95.21% (47606/50000)] [4973]: \n",
      "██████████████████████████████ 10112/10112 [00:01<00:00 5632.06it/s] [81.89%(8189/10000)]: \n",
      "                               0/50048 [00:00<? ?it/s] "
     ]
    },
    {
     "name": "stdout",
     "output_type": "stream",
     "text": [
      "Epoch 11\n"
     ]
    },
    {
     "name": "stderr",
     "output_type": "stream",
     "text": [
      "██████████████████████████████ 50048/50048 [01:28<00:00 563.98it/s] [96.21% (48105/50000)] [5078]: \n",
      "██████████████████████████████ 10112/10112 [00:01<00:00 5652.67it/s] [84.99%(8499/10000)]: \n",
      "                               0/50048 [00:00<? ?it/s] "
     ]
    },
    {
     "name": "stdout",
     "output_type": "stream",
     "text": [
      "Saving Model...\n",
      "Epoch 12\n"
     ]
    },
    {
     "name": "stderr",
     "output_type": "stream",
     "text": [
      "██████████████████████████████ 50048/50048 [01:28<00:00 564.30it/s] [96.65% (48326/50000)] [5018]: \n",
      "██████████████████████████████ 10112/10112 [00:01<00:00 5640.62it/s] [83.37%(8337/10000)]: \n",
      "                               0/50048 [00:00<? ?it/s] "
     ]
    },
    {
     "name": "stdout",
     "output_type": "stream",
     "text": [
      "Epoch 13\n"
     ]
    },
    {
     "name": "stderr",
     "output_type": "stream",
     "text": [
      "██████████████████████████████ 50048/50048 [01:28<00:00 564.15it/s] [97.39% (48697/50000)] [5067]: \n",
      "██████████████████████████████ 10112/10112 [00:01<00:00 5667.21it/s] [83.77%(8377/10000)]: \n",
      "                               0/50048 [00:00<? ?it/s] "
     ]
    },
    {
     "name": "stdout",
     "output_type": "stream",
     "text": [
      "Epoch 14\n"
     ]
    },
    {
     "name": "stderr",
     "output_type": "stream",
     "text": [
      "██████████████████████████████ 50048/50048 [01:28<00:00 564.35it/s] [97.55% (48774/50000)] [5044]: \n",
      "██████████████████████████████ 10112/10112 [00:01<00:00 5662.15it/s] [83.85%(8385/10000)]: \n",
      "                               0/50048 [00:00<? ?it/s] "
     ]
    },
    {
     "name": "stdout",
     "output_type": "stream",
     "text": [
      "Epoch 15\n"
     ]
    },
    {
     "name": "stderr",
     "output_type": "stream",
     "text": [
      "██████████████████████████████ 50048/50048 [01:28<00:00 564.09it/s] [97.67% (48836/50000)] [5115]: \n",
      "██████████████████████████████ 10112/10112 [00:01<00:00 5660.36it/s] [82.87%(8287/10000)]: \n",
      "                               0/50048 [00:00<? ?it/s] "
     ]
    },
    {
     "name": "stdout",
     "output_type": "stream",
     "text": [
      "Epoch 16\n"
     ]
    },
    {
     "name": "stderr",
     "output_type": "stream",
     "text": [
      "██████████████████████████████ 50048/50048 [01:28<00:00 564.21it/s] [97.96% (48981/50000)] [5051]: \n",
      "██████████████████████████████ 10112/10112 [00:01<00:00 5662.58it/s] [83.42%(8342/10000)]: \n",
      "                               0/50048 [00:00<? ?it/s] "
     ]
    },
    {
     "name": "stdout",
     "output_type": "stream",
     "text": [
      "Epoch 17\n"
     ]
    },
    {
     "name": "stderr",
     "output_type": "stream",
     "text": [
      "██████████████████████████████ 50048/50048 [01:28<00:00 564.05it/s] [97.96% (48982/50000)] [5104]: \n",
      "██████████████████████████████ 10112/10112 [00:01<00:00 5656.43it/s] [84.47%(8447/10000)]: \n",
      "                               0/50048 [00:00<? ?it/s] "
     ]
    },
    {
     "name": "stdout",
     "output_type": "stream",
     "text": [
      "Epoch 18\n"
     ]
    },
    {
     "name": "stderr",
     "output_type": "stream",
     "text": [
      "██████████████████████████████ 50048/50048 [01:28<00:00 564.39it/s] [98.13% (49064/50000)] [5034]: \n",
      "██████████████████████████████ 10112/10112 [00:01<00:00 5655.04it/s] [82.99%(8299/10000)]: \n",
      "                               0/50048 [00:00<? ?it/s] "
     ]
    },
    {
     "name": "stdout",
     "output_type": "stream",
     "text": [
      "Epoch 19\n"
     ]
    },
    {
     "name": "stderr",
     "output_type": "stream",
     "text": [
      "██████████████████████████████ 50048/50048 [01:28<00:00 564.13it/s] [98.11% (49054/50000)] [5064]: \n",
      "██████████████████████████████ 10112/10112 [00:01<00:00 5656.37it/s] [84.03%(8403/10000)]: \n",
      "                               0/50048 [00:00<? ?it/s] "
     ]
    },
    {
     "name": "stdout",
     "output_type": "stream",
     "text": [
      "Epoch 20\n"
     ]
    },
    {
     "name": "stderr",
     "output_type": "stream",
     "text": [
      "██████████████████████████████ 50048/50048 [01:28<00:00 564.28it/s] [98.16% (49081/50000)] [5030]: \n",
      "██████████████████████████████ 10112/10112 [00:01<00:00 5657.75it/s] [84.27%(8427/10000)]: \n",
      "                               0/50048 [00:00<? ?it/s] "
     ]
    },
    {
     "name": "stdout",
     "output_type": "stream",
     "text": [
      "Epoch 21\n"
     ]
    },
    {
     "name": "stderr",
     "output_type": "stream",
     "text": [
      "██████████████████████████████ 50048/50048 [01:28<00:00 564.18it/s] [98.17% (49083/50000)] [5052]: \n",
      "██████████████████████████████ 10112/10112 [00:01<00:00 5660.96it/s] [84.90%(8490/10000)]: \n",
      "                               0/50048 [00:00<? ?it/s] "
     ]
    },
    {
     "name": "stdout",
     "output_type": "stream",
     "text": [
      "Epoch 22\n"
     ]
    },
    {
     "name": "stderr",
     "output_type": "stream",
     "text": [
      "██████████████████████████████ 50048/50048 [01:28<00:00 564.24it/s] [98.52% (49259/50000)] [5065]: \n",
      "██████████████████████████████ 10112/10112 [00:01<00:00 5663.48it/s] [83.33%(8333/10000)]: \n",
      "                               0/50048 [00:00<? ?it/s] "
     ]
    },
    {
     "name": "stdout",
     "output_type": "stream",
     "text": [
      "Epoch 23\n"
     ]
    },
    {
     "name": "stderr",
     "output_type": "stream",
     "text": [
      "██████████████████████████████ 50048/50048 [01:28<00:00 564.26it/s] [98.24% (49119/50000)] [5073]: \n",
      "██████████████████████████████ 10112/10112 [00:01<00:00 5668.19it/s] [83.63%(8363/10000)]: \n",
      "                               0/50048 [00:00<? ?it/s] "
     ]
    },
    {
     "name": "stdout",
     "output_type": "stream",
     "text": [
      "Epoch 24\n"
     ]
    },
    {
     "name": "stderr",
     "output_type": "stream",
     "text": [
      "██████████████████████████████ 50048/50048 [01:28<00:00 564.05it/s] [98.21% (49107/50000)] [5124]: \n",
      "██████████████████████████████ 10112/10112 [00:01<00:00 5658.48it/s] [83.88%(8388/10000)]: \n",
      "                               0/50048 [00:00<? ?it/s] "
     ]
    },
    {
     "name": "stdout",
     "output_type": "stream",
     "text": [
      "Epoch 25\n"
     ]
    },
    {
     "name": "stderr",
     "output_type": "stream",
     "text": [
      "██████████████████████████████ 50048/50048 [01:28<00:00 564.23it/s] [98.52% (49260/50000)] [5070]: \n",
      "██████████████████████████████ 10112/10112 [00:01<00:00 5666.47it/s] [83.91%(8391/10000)]: \n",
      "                               0/50048 [00:00<? ?it/s] "
     ]
    },
    {
     "name": "stdout",
     "output_type": "stream",
     "text": [
      "Epoch 26\n"
     ]
    },
    {
     "name": "stderr",
     "output_type": "stream",
     "text": [
      "██████████████████████████████ 50048/50048 [01:28<00:00 564.38it/s] [99.64% (49820/50000)] [5044]: \n",
      "██████████████████████████████ 10112/10112 [00:01<00:00 5665.39it/s] [86.89%(8689/10000)]: \n",
      "                               0/50048 [00:00<? ?it/s] "
     ]
    },
    {
     "name": "stdout",
     "output_type": "stream",
     "text": [
      "Saving Model...\n",
      "Epoch 27\n"
     ]
    },
    {
     "name": "stderr",
     "output_type": "stream",
     "text": [
      "██████████████████████████████ 50048/50048 [01:28<00:00 563.62it/s] [99.97% (49985/50000)] [5112]: \n",
      "██████████████████████████████ 10112/10112 [00:01<00:00 5669.39it/s] [86.92%(8692/10000)]: \n",
      "                               0/50048 [00:00<? ?it/s] "
     ]
    },
    {
     "name": "stdout",
     "output_type": "stream",
     "text": [
      "Saving Model...\n",
      "Epoch 28\n"
     ]
    },
    {
     "name": "stderr",
     "output_type": "stream",
     "text": [
      "██████████████████████████████ 50048/50048 [01:28<00:00 564.26it/s] [100.00% (49998/50000)] [5031]: \n",
      "██████████████████████████████ 10112/10112 [00:01<00:00 5664.06it/s] [86.96%(8696/10000)]: \n",
      "                               0/50048 [00:00<? ?it/s] "
     ]
    },
    {
     "name": "stdout",
     "output_type": "stream",
     "text": [
      "Saving Model...\n",
      "Epoch 29\n"
     ]
    },
    {
     "name": "stderr",
     "output_type": "stream",
     "text": [
      "██████████████████████████████ 50048/50048 [01:28<00:00 564.20it/s] [99.99% (49997/50000)] [5039]:  \n",
      "██████████████████████████████ 10112/10112 [00:01<00:00 5671.21it/s] [87.12%(8712/10000)]: \n",
      "                               0/50048 [00:00<? ?it/s] "
     ]
    },
    {
     "name": "stdout",
     "output_type": "stream",
     "text": [
      "Saving Model...\n",
      "Epoch 30\n"
     ]
    },
    {
     "name": "stderr",
     "output_type": "stream",
     "text": [
      "██████████████████████████████ 50048/50048 [01:28<00:00 564.32it/s] [100.00% (49999/50000)] [5075]: \n",
      "██████████████████████████████ 10112/10112 [00:01<00:00 5613.50it/s] [87.22%(8722/10000)]: \n",
      "                               0/50048 [00:00<? ?it/s] "
     ]
    },
    {
     "name": "stdout",
     "output_type": "stream",
     "text": [
      "Saving Model...\n",
      "Epoch 31\n"
     ]
    },
    {
     "name": "stderr",
     "output_type": "stream",
     "text": [
      "██████████████████████████████ 50048/50048 [01:28<00:00 563.92it/s] [100.00% (49999/50000)] [5131]: \n",
      "██████████████████████████████ 10112/10112 [00:01<00:00 5655.32it/s] [87.30%(8730/10000)]: \n",
      "                               0/50048 [00:00<? ?it/s] "
     ]
    },
    {
     "name": "stdout",
     "output_type": "stream",
     "text": [
      "Saving Model...\n",
      "Epoch 32\n"
     ]
    },
    {
     "name": "stderr",
     "output_type": "stream",
     "text": [
      "██████████████████████████████ 50048/50048 [01:28<00:00 564.56it/s] [100.00% (49999/50000)] [5005]: \n",
      "██████████████████████████████ 10112/10112 [00:01<00:00 5664.63it/s] [87.29%(8729/10000)]: \n",
      "                               0/50048 [00:00<? ?it/s] "
     ]
    },
    {
     "name": "stdout",
     "output_type": "stream",
     "text": [
      "Epoch 33\n"
     ]
    },
    {
     "name": "stderr",
     "output_type": "stream",
     "text": [
      "██████████████████████████████ 50048/50048 [01:28<00:00 564.51it/s] [100.00% (50000/50000)] [5041]: \n",
      "██████████████████████████████ 10112/10112 [00:01<00:00 5672.76it/s] [87.26%(8726/10000)]: \n",
      "                               0/50048 [00:00<? ?it/s] "
     ]
    },
    {
     "name": "stdout",
     "output_type": "stream",
     "text": [
      "Epoch 34\n"
     ]
    },
    {
     "name": "stderr",
     "output_type": "stream",
     "text": [
      "██████████████████████████████ 50048/50048 [01:28<00:00 564.37it/s] [100.00% (50000/50000)] [5078]: \n",
      "██████████████████████████████ 10112/10112 [00:01<00:00 5615.75it/s] [87.24%(8724/10000)]: \n",
      "                               0/50048 [00:00<? ?it/s] "
     ]
    },
    {
     "name": "stdout",
     "output_type": "stream",
     "text": [
      "Epoch 35\n"
     ]
    },
    {
     "name": "stderr",
     "output_type": "stream",
     "text": [
      "██████████████████████████████ 50048/50048 [01:28<00:00 564.14it/s] [100.00% (50000/50000)] [5098]: \n",
      "██████████████████████████████ 10112/10112 [00:01<00:00 5668.94it/s] [87.34%(8734/10000)]: \n",
      "                               0/50048 [00:00<? ?it/s] "
     ]
    },
    {
     "name": "stdout",
     "output_type": "stream",
     "text": [
      "Saving Model...\n",
      "Epoch 36\n"
     ]
    },
    {
     "name": "stderr",
     "output_type": "stream",
     "text": [
      "██████████████████████████████ 50048/50048 [01:28<00:00 564.46it/s] [100.00% (49998/50000)] [5038]: \n",
      "██████████████████████████████ 10112/10112 [00:01<00:00 5669.45it/s] [87.38%(8738/10000)]: \n",
      "                               0/50048 [00:00<? ?it/s] "
     ]
    },
    {
     "name": "stdout",
     "output_type": "stream",
     "text": [
      "Saving Model...\n",
      "Epoch 37\n"
     ]
    },
    {
     "name": "stderr",
     "output_type": "stream",
     "text": [
      "██████████████████████████████ 50048/50048 [01:28<00:00 564.77it/s] [100.00% (49999/50000)] [4950]: \n",
      "██████████████████████████████ 10112/10112 [00:01<00:00 5671.67it/s] [87.31%(8731/10000)]: \n",
      "                               0/50048 [00:00<? ?it/s] "
     ]
    },
    {
     "name": "stdout",
     "output_type": "stream",
     "text": [
      "Epoch 38\n"
     ]
    },
    {
     "name": "stderr",
     "output_type": "stream",
     "text": [
      "██████████████████████████████ 50048/50048 [01:28<00:00 564.19it/s] [100.00% (50000/50000)] [5088]: \n",
      "██████████████████████████████ 10112/10112 [00:01<00:00 5663.10it/s] [87.30%(8730/10000)]: \n",
      "                               0/50048 [00:00<? ?it/s] "
     ]
    },
    {
     "name": "stdout",
     "output_type": "stream",
     "text": [
      "Epoch 39\n"
     ]
    },
    {
     "name": "stderr",
     "output_type": "stream",
     "text": [
      "██████████████████████████████ 50048/50048 [01:28<00:00 564.50it/s] [100.00% (49999/50000)] [5042]: \n",
      "██████████████████████████████ 10112/10112 [00:01<00:00 5670.78it/s] [87.26%(8726/10000)]: \n",
      "                               0/50048 [00:00<? ?it/s] "
     ]
    },
    {
     "name": "stdout",
     "output_type": "stream",
     "text": [
      "Epoch 40\n"
     ]
    },
    {
     "name": "stderr",
     "output_type": "stream",
     "text": [
      "██████████████████████████████ 50048/50048 [01:28<00:00 564.13it/s] [100.00% (49999/50000)] [5084]: \n",
      "██████████████████████████████ 10112/10112 [00:01<00:00 5669.70it/s] [87.28%(8728/10000)]: \n",
      "                               0/50048 [00:00<? ?it/s] "
     ]
    },
    {
     "name": "stdout",
     "output_type": "stream",
     "text": [
      "Epoch 41\n"
     ]
    },
    {
     "name": "stderr",
     "output_type": "stream",
     "text": [
      "██████████████████████████████ 50048/50048 [01:28<00:00 564.32it/s] [100.00% (49999/50000)] [5057]: \n",
      "██████████████████████████████ 10112/10112 [00:01<00:00 5671.54it/s] [87.27%(8727/10000)]: \n",
      "                               0/50048 [00:00<? ?it/s] "
     ]
    },
    {
     "name": "stdout",
     "output_type": "stream",
     "text": [
      "Epoch 42\n"
     ]
    },
    {
     "name": "stderr",
     "output_type": "stream",
     "text": [
      "██████████████████████████████ 50048/50048 [01:28<00:00 564.11it/s] [100.00% (50000/50000)] [5094]: \n",
      "██████████████████████████████ 10112/10112 [00:01<00:00 5664.47it/s] [87.18%(8718/10000)]: \n",
      "                               0/50048 [00:00<? ?it/s] "
     ]
    },
    {
     "name": "stdout",
     "output_type": "stream",
     "text": [
      "Epoch 43\n"
     ]
    },
    {
     "name": "stderr",
     "output_type": "stream",
     "text": [
      "██████████████████████████████ 50048/50048 [01:28<00:00 564.04it/s] [100.00% (49999/50000)] [5094]: \n",
      "██████████████████████████████ 10112/10112 [00:01<00:00 5667.46it/s] [87.37%(8737/10000)]: \n",
      "                               0/50048 [00:00<? ?it/s] "
     ]
    },
    {
     "name": "stdout",
     "output_type": "stream",
     "text": [
      "Epoch 44\n"
     ]
    },
    {
     "name": "stderr",
     "output_type": "stream",
     "text": [
      "██████████████████████████████ 50048/50048 [01:28<00:00 564.53it/s] [100.00% (50000/50000)] [5007]: \n",
      "██████████████████████████████ 10112/10112 [00:01<00:00 5644.42it/s] [87.27%(8727/10000)]: \n",
      "                               0/50048 [00:00<? ?it/s] "
     ]
    },
    {
     "name": "stdout",
     "output_type": "stream",
     "text": [
      "Epoch 45\n"
     ]
    },
    {
     "name": "stderr",
     "output_type": "stream",
     "text": [
      "██████████████████████████████ 50048/50048 [01:28<00:00 564.23it/s] [100.00% (50000/50000)] [5086]: \n",
      "██████████████████████████████ 10112/10112 [00:01<00:00 5669.01it/s] [87.24%(8724/10000)]: \n",
      "                               0/50048 [00:00<? ?it/s] "
     ]
    },
    {
     "name": "stdout",
     "output_type": "stream",
     "text": [
      "Epoch 46\n"
     ]
    },
    {
     "name": "stderr",
     "output_type": "stream",
     "text": [
      "██████████████████████████████ 50048/50048 [01:28<00:00 564.28it/s] [100.00% (50000/50000)] [5068]: \n",
      "██████████████████████████████ 10112/10112 [00:01<00:00 5669.99it/s] [87.33%(8733/10000)]: \n",
      "                               0/50048 [00:00<? ?it/s] "
     ]
    },
    {
     "name": "stdout",
     "output_type": "stream",
     "text": [
      "Epoch 47\n"
     ]
    },
    {
     "name": "stderr",
     "output_type": "stream",
     "text": [
      "██████████████████████████████ 50048/50048 [01:28<00:00 564.26it/s] [100.00% (50000/50000)] [5075]: \n",
      "██████████████████████████████ 10112/10112 [00:01<00:00 5671.73it/s] [87.23%(8723/10000)]: \n",
      "                               0/50048 [00:00<? ?it/s] "
     ]
    },
    {
     "name": "stdout",
     "output_type": "stream",
     "text": [
      "Epoch 48\n"
     ]
    },
    {
     "name": "stderr",
     "output_type": "stream",
     "text": [
      "██████████████████████████████ 50048/50048 [01:28<00:00 564.36it/s] [100.00% (50000/50000)] [5052]: \n",
      "██████████████████████████████ 10112/10112 [00:01<00:00 5633.08it/s] [87.32%(8732/10000)]: \n",
      "                               0/50048 [00:00<? ?it/s] "
     ]
    },
    {
     "name": "stdout",
     "output_type": "stream",
     "text": [
      "Epoch 49\n"
     ]
    },
    {
     "name": "stderr",
     "output_type": "stream",
     "text": [
      "██████████████████████████████ 50048/50048 [01:28<00:00 564.24it/s] [100.00% (50000/50000)] [5079]: \n",
      "██████████████████████████████ 10112/10112 [00:01<00:00 5668.58it/s] [87.36%(8736/10000)]: \n",
      "                               0/50048 [00:00<? ?it/s] "
     ]
    },
    {
     "name": "stdout",
     "output_type": "stream",
     "text": [
      "Epoch 50\n"
     ]
    },
    {
     "name": "stderr",
     "output_type": "stream",
     "text": [
      "██████████████████████████████ 50048/50048 [01:28<00:00 564.32it/s] [100.00% (49999/50000)] [5024]: \n",
      "██████████████████████████████ 10112/10112 [00:01<00:00 5659.96it/s] [87.41%(8741/10000)]: \n"
     ]
    },
    {
     "name": "stdout",
     "output_type": "stream",
     "text": [
      "Saving Model...\n"
     ]
    }
   ],
   "source": [
    "# Training\n",
    "model = ResNet18()\n",
    "model.to(device)\n",
    "loss_function = nn.CrossEntropyLoss()\n",
    "optimizer = optim.SGD(model.parameters(), lr=1e-1, momentum=0.9, weight_decay=1e-4)\n",
    "scheduler = lr_scheduler.MultiStepLR(optimizer, milestones=[25, 35])\n",
    "best_acc = 0\n",
    "dataset, data_loader = load_data()\n",
    "baseline, _ = load_model('baseline_2')\n",
    "atk = torchattacks.FGSM(baseline, eps=0.5/255)\n",
    "for epoch in range(1, 51):\n",
    "    print(f'Epoch {epoch}')\n",
    "    adv_train(baseline, model)\n",
    "    test_acc = test(model)\n",
    "    save_model('bot20', test_acc, optimizer)\n",
    "    scheduler.step()"
   ]
  },
  {
   "cell_type": "code",
   "execution_count": 8,
   "metadata": {},
   "outputs": [
    {
     "name": "stdout",
     "output_type": "stream",
     "text": [
      "Files already downloaded and verified\n",
      "Files already downloaded and verified\n"
     ]
    },
    {
     "name": "stderr",
     "output_type": "stream",
     "text": [
      "██████████████████████████████ 50048/50048 [00:35<00:00 1415.43it/s] [# of Collected Adv Instances : 6023]: \n"
     ]
    }
   ],
   "source": [
    "baseline, optimizer = load_model('baseline_2')\n",
    "atk = torchattacks.FGSM(baseline, eps=0.5/255)\n",
    "dataset, data_loader = load_data()\n",
    "adv_instances = collect_advs(baseline, data_loader, atk)"
   ]
  },
  {
   "cell_type": "code",
   "execution_count": 13,
   "metadata": {},
   "outputs": [
    {
     "data": {
      "text/plain": [
       "6023"
      ]
     },
     "execution_count": 13,
     "metadata": {},
     "output_type": "execute_result"
    }
   ],
   "source": [
    "advset = AdvDataSet(adv_instances, need_perturb_label=True)\n",
    "advset.slicing(42, 1000)\n",
    "trainset = dataset['train']\n",
    "advset_list = advset.concat_dataset(trainset)\n",
    "len(advset)"
   ]
  },
  {
   "cell_type": "code",
   "execution_count": 14,
   "metadata": {},
   "outputs": [
    {
     "name": "stdout",
     "output_type": "stream",
     "text": [
      "baseline_3 87.66\n",
      "adv_0 87.46\n",
      "adv_1 86.93\n",
      "adv_2 86.89\n",
      "adv_3 86.74\n"
     ]
    }
   ],
   "source": [
    "model_list = ['baseline_3']\n",
    "model_list += [f'adv_{i}' for i in range(4)]\n",
    "for m in model_list: \n",
    "    state_dict = torch.load(f'models/{m}.pth')\n",
    "    print(m, state_dict['acc'])"
   ]
  },
  {
   "cell_type": "markdown",
   "metadata": {},
   "source": [
    "## Hyperplane Distance"
   ]
  },
  {
   "cell_type": "code",
   "execution_count": 15,
   "metadata": {},
   "outputs": [
    {
     "data": {
      "text/plain": [
       "(torch.Size([10, 512]), torch.Size([10]))"
      ]
     },
     "execution_count": 15,
     "metadata": {},
     "output_type": "execute_result"
    }
   ],
   "source": [
    "weight, bias = baseline.load_weight()\n",
    "weight.shape, bias.shape"
   ]
  },
  {
   "cell_type": "code",
   "execution_count": 16,
   "metadata": {
    "scrolled": true
   },
   "outputs": [],
   "source": [
    "def distance(a, b, c):\n",
    "    a = a.cpu().detach().numpy()\n",
    "    b = b.cpu().detach().numpy()\n",
    "    c = c.cpu().detach().numpy()\n",
    "    return np.abs(np.matmul(a, b) + c) / np.linalg.norm(b)"
   ]
  },
  {
   "cell_type": "code",
   "execution_count": 17,
   "metadata": {},
   "outputs": [
    {
     "name": "stderr",
     "output_type": "stream",
     "text": [
      "██████████████████████████████ 6144/6144 [00:01<00:00 3631.48it/s] \n"
     ]
    },
    {
     "data": {
      "text/plain": [
       "{0: {'top_10': 1.9921111,\n",
       "  'top_20': 2.4569414,\n",
       "  'bot_10': 4.5054946,\n",
       "  'bot_20': 4.029607},\n",
       " 1: {'top_10': 4.2631626,\n",
       "  'top_20': 4.670611,\n",
       "  'bot_10': 7.936803,\n",
       "  'bot_20': 7.073451},\n",
       " 2: {'top_10': 0.6874836,\n",
       "  'top_20': 1.0158967,\n",
       "  'bot_10': 3.1587703,\n",
       "  'bot_20': 2.7136226},\n",
       " 3: {'top_10': 0.7757223,\n",
       "  'top_20': 1.1098003,\n",
       "  'bot_10': 3.1452658,\n",
       "  'bot_20': 2.6339307},\n",
       " 4: {'top_10': 0.8189386,\n",
       "  'top_20': 1.1776764,\n",
       "  'bot_10': 3.1004822,\n",
       "  'bot_20': 2.7183628},\n",
       " 5: {'top_10': 1.1155912,\n",
       "  'top_20': 1.5504944,\n",
       "  'bot_10': 3.7928708,\n",
       "  'bot_20': 3.3094227},\n",
       " 6: {'top_10': 1.5036038,\n",
       "  'top_20': 1.9126078,\n",
       "  'bot_10': 3.988985,\n",
       "  'bot_20': 3.6457815},\n",
       " 7: {'top_10': 1.8043453,\n",
       "  'top_20': 2.1294463,\n",
       "  'bot_10': 4.8365936,\n",
       "  'bot_20': 4.1259365},\n",
       " 8: {'top_10': 2.617714,\n",
       "  'top_20': 3.0114908,\n",
       "  'bot_10': 5.2799406,\n",
       "  'bot_20': 4.776397},\n",
       " 9: {'top_10': 3.269793,\n",
       "  'top_20': 3.720141,\n",
       "  'bot_10': 6.762093,\n",
       "  'bot_20': 5.922116}}"
      ]
     },
     "execution_count": 17,
     "metadata": {},
     "output_type": "execute_result"
    }
   ],
   "source": [
    "adv_loader = torch.utils.data.DataLoader(advset, batch_size=batch_size, shuffle=True)\n",
    "bar_format = '{bar:30} {n_fmt}/{total_fmt} [{elapsed}<{remaining} {rate_fmt}] {desc}'\n",
    "adv_iter = tqdm(enumerate(adv_loader), total=len(adv_loader), unit_scale=batch_size, bar_format=bar_format)\n",
    "\n",
    "sort_dict = {}\n",
    "boundary_dict = {}\n",
    "for i in range(10):\n",
    "    sort_dict[i] = []\n",
    "    boundary_dict[i] = {}\n",
    "\n",
    "new_adv_instances = []\n",
    "for i, (batch, label) in adv_iter:\n",
    "    batch, label = batch.to(device), label.to(device)\n",
    "    output = baseline(batch)\n",
    "    \n",
    "    latent_vec = baseline.load_vec()\n",
    "    old_label = label\n",
    "    \n",
    "    for j in range(batch.shape[0]):\n",
    "        dis = distance(latent_vec[j], weight[old_label[j]], bias[old_label[j]])\n",
    "        sort_dict[old_label[j].item()].append((dis, batch[j].cpu().detach(), old_label[j].item()))\n",
    "\n",
    "for i in range(10):\n",
    "    sort_dict[i].sort()\n",
    "    idx_10 = int(len(sort_dict[i]) * 0.1)\n",
    "    idx_20 = int(len(sort_dict[i]) * 0.2)\n",
    "    boundary_dict[i]['top_10'] = sort_dict[i][idx_10][0]\n",
    "    boundary_dict[i]['top_20'] = sort_dict[i][idx_20][0]\n",
    "    boundary_dict[i]['bot_10'] = sort_dict[i][-idx_10][0]\n",
    "    boundary_dict[i]['bot_20'] = sort_dict[i][-idx_20][0]\n",
    "    \n",
    "boundary_dict"
   ]
  },
  {
   "cell_type": "code",
   "execution_count": null,
   "metadata": {},
   "outputs": [],
   "source": [
    "advset = AdvDataSet(new_adv_instances, need_perturb_label=False)\n",
    "advset.slicing(42, 3727)\n",
    "trainset = dataset['train']\n",
    "advset_list = advset.concat_dataset(trainset)\n",
    "len(advset_list[0])"
   ]
  },
  {
   "cell_type": "markdown",
   "metadata": {},
   "source": [
    "## Adversarial Attack"
   ]
  },
  {
   "cell_type": "code",
   "execution_count": 12,
   "metadata": {},
   "outputs": [],
   "source": [
    "def test(model):\n",
    "    model.eval()\n",
    "    test_loss = 0\n",
    "    correct = 0\n",
    "    total = 0\n",
    "    acc = 0.\n",
    "    test_iter = load_iter(data_loader, 'test')\n",
    "\n",
    "    for i, (batch, label) in test_iter:\n",
    "        batch, label = batch.to(device), label.to(device)\n",
    "        adv_batch = atk(batch, label)\n",
    "        output = model(adv_batch)\n",
    "        loss = loss_function(output, label)\n",
    "\n",
    "        test_loss += loss.item()\n",
    "        _, predicted = output.max(1)\n",
    "        total += label.size(0)\n",
    "        correct += predicted.eq(label).sum().item()\n",
    "\n",
    "        acc = 100. * correct / total\n",
    "        test_iter.set_description(f'[{acc:.2f}%({correct}/{total})]', True)\n",
    "    return acc"
   ]
  },
  {
   "cell_type": "code",
   "execution_count": 16,
   "metadata": {},
   "outputs": [
    {
     "name": "stdout",
     "output_type": "stream",
     "text": [
      "Files already downloaded and verified\n",
      "Files already downloaded and verified\n"
     ]
    },
    {
     "name": "stderr",
     "output_type": "stream",
     "text": [
      "██████████████████████████████ 10112/10112 [00:06<00:00 1654.52it/s] [61.35%(6135/10000)]: \n",
      "██████████████████████████████ 10112/10112 [00:06<00:00 1672.33it/s] [69.03%(6903/10000)]: \n",
      "██████████████████████████████ 10112/10112 [00:06<00:00 1669.64it/s] [67.63%(6763/10000)]: \n",
      "██████████████████████████████ 10112/10112 [00:06<00:00 1674.64it/s] [66.04%(6604/10000)]: \n",
      "██████████████████████████████ 10112/10112 [00:06<00:00 1671.01it/s] [68.72%(6872/10000)]: \n",
      "██████████████████████████████ 10112/10112 [00:06<00:00 1671.75it/s] [66.81%(6681/10000)]: \n"
     ]
    },
    {
     "data": {
      "text/plain": [
       "[('baseline_2', 87.17, 61.35),\n",
       " ('fgsm', 87.26, 69.03),\n",
       " ('top10', 87.64, 67.63),\n",
       " ('top20', 86.65, 66.04),\n",
       " ('bot10', 87.07, 68.72),\n",
       " ('bot20', 86.57, 66.81)]"
      ]
     },
     "execution_count": 16,
     "metadata": {},
     "output_type": "execute_result"
    }
   ],
   "source": [
    "model_list = ['baseline_2', 'fgsm', 'top10', 'top20', 'bot10', 'bot20']\n",
    "loss_function = nn.CrossEntropyLoss()\n",
    "dataset, data_loader = load_data()\n",
    "acc = []\n",
    "for m in model_list: \n",
    "    state_dict = torch.load(f'models/{m}.pth')\n",
    "    model, optimizer = load_model(f'{m}')\n",
    "    atk = torchattacks.FGSM(model, eps=0.5/255)\n",
    "    acc.append((m, state_dict['acc'], test(model)))\n",
    "acc"
   ]
  }
 ],
 "metadata": {
  "kernelspec": {
   "display_name": "Python 3",
   "language": "python",
   "name": "python3"
  },
  "language_info": {
   "codemirror_mode": {
    "name": "ipython",
    "version": 3
   },
   "file_extension": ".py",
   "mimetype": "text/x-python",
   "name": "python",
   "nbconvert_exporter": "python",
   "pygments_lexer": "ipython3",
   "version": "3.8.5"
  }
 },
 "nbformat": 4,
 "nbformat_minor": 2
}
