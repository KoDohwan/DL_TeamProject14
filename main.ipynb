{
 "cells": [
  {
   "cell_type": "code",
   "execution_count": 1,
   "metadata": {},
   "outputs": [],
   "source": [
    "import torch\n",
    "import torch.nn as nn\n",
    "import torch.optim as optim\n",
    "\n",
    "import torchvision\n",
    "import torchvision.transforms as transforms\n",
    "\n",
    "import matplotlib.pyplot as plt\n",
    "import numpy as np\n",
    "import os\n",
    "import sys\n",
    "\n",
    "from tqdm import tqdm\n",
    "\n",
    "from resnet import ResNet18"
   ]
  },
  {
   "cell_type": "code",
   "execution_count": 25,
   "metadata": {},
   "outputs": [
    {
     "name": "stdout",
     "output_type": "stream",
     "text": [
      "GeForce RTX 2070 SUPER\n"
     ]
    },
    {
     "data": {
      "text/plain": [
       "device(type='cuda', index=0)"
      ]
     },
     "execution_count": 25,
     "metadata": {},
     "output_type": "execute_result"
    }
   ],
   "source": [
    "if torch.cuda.is_available() == True:\n",
    "    device = torch.device('cuda:0')\n",
    "    print(torch.cuda.get_device_name())\n",
    "else:\n",
    "    device = torch.device('cpu')\n",
    "device"
   ]
  },
  {
   "cell_type": "code",
   "execution_count": 24,
   "metadata": {},
   "outputs": [],
   "source": [
    "batch_size = 128\n",
    "classes = ('plane', 'car', 'bird', 'cat', 'deer', 'dog', 'frog', 'horse', 'ship', 'truck')\n",
    "\n",
    "def load_data():    \n",
    "    transform_train = transforms.Compose([transforms.RandomCrop(32, padding=4), transforms.RandomHorizontalFlip(), \n",
    "                                    transforms.ToTensor(), transforms.Normalize((0.4914, 0.4822, 0.4465), (0.2023, 0.1994, 0.2010))])\n",
    "    transform_test = transforms.Compose([transforms.ToTensor(), transforms.Normalize((0.4914, 0.4822, 0.4465), (0.2023, 0.1994, 0.2010))])\n",
    "\n",
    "    trainset = torchvision.datasets.CIFAR10(root='./data', train=True, download=True, transform=transform_train)\n",
    "    train_loader = torch.utils.data.DataLoader(trainset, batch_size=batch_size, shuffle=True)\n",
    "\n",
    "    testset = torchvision.datasets.CIFAR10(root='./data', train=False, download=True, transform=transform_test)\n",
    "    test_loader = torch.utils.data.DataLoader(testset, batch_size=batch_size, shuffle=False)\n",
    "\n",
    "    data_loader = {'train': train_loader, 'test': test_loader}\n",
    "    return data_loader\n",
    "\n",
    "def load_iter(data_loader, data_type):\n",
    "    bar_format = '{bar:30} {n_fmt}/{total_fmt} [{elapsed}<{remaining} {rate_fmt}] {desc}'\n",
    "    \n",
    "    if data_type == 'train':\n",
    "        train_loader = data_loader['train']\n",
    "        train_iter = tqdm(enumerate(train_loader), total=len(train_loader), unit_scale=batch_size, bar_format=bar_format)\n",
    "        return train_iter\n",
    "    elif data_type == 'test':\n",
    "        test_loader = data_loader['test']\n",
    "        test_iter = tqdm(enumerate(test_loader), total=len(test_loader), unit_scale=batch_size, bar_format=bar_format)\n",
    "        return test_iter\n",
    "    else:\n",
    "        print('Data Error!!!')"
   ]
  },
  {
   "cell_type": "code",
   "execution_count": 4,
   "metadata": {},
   "outputs": [],
   "source": [
    "def imshow(img):\n",
    "    img[0] = img[0] * 0.2023 + 0.4914\n",
    "    img[1] = img[1] * 0.1994 + 0.4822\n",
    "    img[2] = img[2] * 0.2010 + 0.4465\n",
    "    npimg = img.numpy()\n",
    "    plt.imshow(np.transpose(npimg, (1, 2, 0)))\n",
    "    plt.show()"
   ]
  },
  {
   "cell_type": "code",
   "execution_count": 20,
   "metadata": {},
   "outputs": [],
   "source": [
    "def train(model):\n",
    "    model.train()\n",
    "    train_loss = 0\n",
    "    total = 0\n",
    "    correct = 0\n",
    "    step = 0\n",
    "    train_iter = load_iter(data_loader, 'train')\n",
    "    for i, (batch, label) in train_iter:\n",
    "        batch, label = batch.to(device), label.to(device)\n",
    "        output = model(batch)\n",
    "        \n",
    "        optimizer.zero_grad()\n",
    "        loss = loss_function(output, label)\n",
    "        loss.backward()\n",
    "        optimizer.step()\n",
    "        \n",
    "        train_loss += loss.item()\n",
    "        _, predicted = output.max(1)\n",
    "        total += label.size(0)\n",
    "        correct += predicted.eq(label).sum().item()\n",
    "\n",
    "        acc = 100. * correct / total\n",
    "        train_iter.set_description(f'[{acc:.2f}% ({correct}/{total})]', True)"
   ]
  },
  {
   "cell_type": "code",
   "execution_count": 19,
   "metadata": {},
   "outputs": [],
   "source": [
    "def test(model):\n",
    "    model.eval()\n",
    "    test_loss = 0\n",
    "    correct = 0\n",
    "    total = 0\n",
    "    acc = 0.\n",
    "    test_iter = load_iter(data_loader, 'test')\n",
    "\n",
    "    for i, (batch, label) in test_iter:\n",
    "        batch, label = batch.to(device), label.to(device)\n",
    "        output = model(batch)\n",
    "        loss = loss_function(output, label)\n",
    "\n",
    "        test_loss += loss.item()\n",
    "        _, predicted = output.max(1)\n",
    "        total += label.size(0)\n",
    "        correct += predicted.eq(label).sum().item()\n",
    "\n",
    "        acc = 100. * correct / total\n",
    "        test_iter.set_description(f'[{acc:.2f}%({correct}/{total})]', True)\n",
    "    return acc"
   ]
  },
  {
   "cell_type": "code",
   "execution_count": 7,
   "metadata": {},
   "outputs": [],
   "source": [
    "def save_model(epoch, acc, optimizer):\n",
    "    global best_acc\n",
    "    if acc > best_acc:\n",
    "        state = {\n",
    "            'model': model.state_dict(),\n",
    "            'acc': acc,\n",
    "            'epoch': epoch,\n",
    "            'optimizer': optimizer.state_dict()\n",
    "        }\n",
    "        if not os.path.isdir('models'):\n",
    "            os.mkdir('models')\n",
    "        torch.save(state, f'./models/model_{epoch}.pth')\n",
    "        best_acc = acc\n",
    "        print('Saving Model...')\n",
    "\n",
    "def load_model(name):\n",
    "    state_dict = torch.load(f'./models/{name}.pth', map_location=device)\n",
    "    model = ResNet18()\n",
    "    model.to(device)\n",
    "    model.load_state_dict(state_dict['model'])\n",
    "    optimizer = optim.SGD(model.parameters(), lr=1e-1, momentum=0.9, weight_decay=1e-4)\n",
    "#     optimizer.load_state_dict(state_dict['optimizer'])\n",
    "    return model, optimizer"
   ]
  },
  {
   "cell_type": "code",
   "execution_count": 8,
   "metadata": {},
   "outputs": [],
   "source": [
    "def decaying_learning_rate(optimizer, epoch):\n",
    "    lr = 1e-1\n",
    "    if epoch >= 100:\n",
    "        lr /= 10\n",
    "    if epoch >= 150:\n",
    "        lr /= 10\n",
    "    for param_group in optimizer.param_groups:\n",
    "        param_group['lr'] = lr"
   ]
  },
  {
   "cell_type": "code",
   "execution_count": 21,
   "metadata": {},
   "outputs": [
    {
     "name": "stdout",
     "output_type": "stream",
     "text": [
      "Files already downloaded and verified\n",
      "Files already downloaded and verified\n"
     ]
    },
    {
     "name": "stderr",
     "output_type": "stream",
     "text": [
      "\r",
      "                               0/50048 [00:00<? ?it/s] "
     ]
    },
    {
     "name": "stdout",
     "output_type": "stream",
     "text": [
      "Epoch 1\n"
     ]
    },
    {
     "name": "stderr",
     "output_type": "stream",
     "text": [
      "██████████████████████████████ 50048/50048 [01:23<00:00 597.45it/s] [35.65% (17824/50000)]: \n",
      "██████████████████████████████ 10112/10112 [00:05<00:00 1834.13it/s] [45.24%(4524/10000)]: \n",
      "                               128/50048 [00:00<01:08 727.11it/s] [39.84% (51/128)]: "
     ]
    },
    {
     "name": "stdout",
     "output_type": "stream",
     "text": [
      "Saving Model...\n",
      "Epoch 2\n"
     ]
    },
    {
     "name": "stderr",
     "output_type": "stream",
     "text": [
      "██████████████████████████████ 50048/50048 [01:24<00:00 594.72it/s] [55.29% (27644/50000)]: \n",
      "██████████████████████████████ 10112/10112 [00:05<00:00 1896.76it/s] [60.49%(6049/10000)]: \n"
     ]
    },
    {
     "name": "stdout",
     "output_type": "stream",
     "text": [
      "Saving Model...\n"
     ]
    }
   ],
   "source": [
    "# Training\n",
    "model = ResNet18()\n",
    "model.to(device)\n",
    "loss_function = nn.CrossEntropyLoss()\n",
    "optimizer = optim.SGD(model.parameters(), lr=1e-1, momentum=0.9, weight_decay=1e-4)\n",
    "best_acc = 0\n",
    "data_loader = load_data()\n",
    "for epoch in range(1, 3):\n",
    "    print(f'Epoch {epoch}')\n",
    "    train(model)\n",
    "    test_acc = test(model)\n",
    "    save_model(epoch, test_acc, optimizer)\n",
    "    decaying_learning_rate(optimizer, epoch)"
   ]
  },
  {
   "cell_type": "code",
   "execution_count": 23,
   "metadata": {
    "scrolled": false
   },
   "outputs": [
    {
     "name": "stderr",
     "output_type": "stream",
     "text": [
      "██████████████████████████████ 10112/10112 [00:03<00:00 2980.21it/s] [94.53%(9453/10000)]: \n"
     ]
    },
    {
     "data": {
      "text/plain": [
       "94.53"
      ]
     },
     "execution_count": 23,
     "metadata": {},
     "output_type": "execute_result"
    }
   ],
   "source": [
    "# Validation\n",
    "model, optimizer = load_model('baseline')\n",
    "loss_function = nn.CrossEntropyLoss()\n",
    "test(model)"
   ]
  }
 ],
 "metadata": {
  "kernelspec": {
   "display_name": "Python 3",
   "language": "python",
   "name": "python3"
  },
  "language_info": {
   "codemirror_mode": {
    "name": "ipython",
    "version": 3
   },
   "file_extension": ".py",
   "mimetype": "text/x-python",
   "name": "python",
   "nbconvert_exporter": "python",
   "pygments_lexer": "ipython3",
   "version": "3.7.9"
  }
 },
 "nbformat": 4,
 "nbformat_minor": 2
}
