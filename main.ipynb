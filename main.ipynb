{
 "cells": [
  {
   "cell_type": "code",
   "execution_count": 1,
   "metadata": {},
   "outputs": [
    {
     "name": "stdout",
     "output_type": "stream",
     "text": [
      "GeForce RTX 2070 SUPER\n"
     ]
    }
   ],
   "source": [
    "import torch\n",
    "import torch.nn as nn\n",
    "import torch.optim as optim\n",
    "from torch.optim import lr_scheduler\n",
    "\n",
    "import torchvision\n",
    "import torchvision.transforms as transforms\n",
    "\n",
    "import matplotlib.pyplot as plt\n",
    "import numpy as np\n",
    "import os\n",
    "import sys\n",
    "\n",
    "from tqdm import tqdm\n",
    "\n",
    "from resnet import ResNet18\n",
    "from data_aug import collect_advs, AdvDataSet"
   ]
  },
  {
   "cell_type": "code",
   "execution_count": 2,
   "metadata": {},
   "outputs": [
    {
     "name": "stdout",
     "output_type": "stream",
     "text": [
      "GeForce RTX 2070 SUPER\n"
     ]
    },
    {
     "data": {
      "text/plain": [
       "device(type='cuda', index=0)"
      ]
     },
     "execution_count": 2,
     "metadata": {},
     "output_type": "execute_result"
    }
   ],
   "source": [
    "if torch.cuda.is_available() == True:\n",
    "    device = torch.device('cuda:0')\n",
    "    print(torch.cuda.get_device_name())\n",
    "else:\n",
    "    device = torch.device('cpu')\n",
    "device"
   ]
  },
  {
   "cell_type": "code",
   "execution_count": 3,
   "metadata": {},
   "outputs": [],
   "source": [
    "batch_size = 128\n",
    "classes = ('plane', 'car', 'bird', 'cat', 'deer', 'dog', 'frog', 'horse', 'ship', 'truck')\n",
    "\n",
    "def load_data():    \n",
    "    transform_train = transforms.Compose([transforms.RandomCrop(32, padding=4), transforms.RandomHorizontalFlip(), \n",
    "                                    transforms.ToTensor(), transforms.Normalize((0.4914, 0.4822, 0.4465), (0.2023, 0.1994, 0.2010))])\n",
    "    transform_test = transforms.Compose([transforms.ToTensor(), transforms.Normalize((0.4914, 0.4822, 0.4465), (0.2023, 0.1994, 0.2010))])\n",
    "\n",
    "    trainset = torchvision.datasets.CIFAR10(root='./data', train=True, download=True, transform=transform_test)\n",
    "    train_loader = torch.utils.data.DataLoader(trainset, batch_size=batch_size, shuffle=True)\n",
    "\n",
    "    testset = torchvision.datasets.CIFAR10(root='./data', train=False, download=True, transform=transform_test)\n",
    "    test_loader = torch.utils.data.DataLoader(testset, batch_size=batch_size, shuffle=False)\n",
    "    \n",
    "    dataset = {'train': trainset, 'test': testset}\n",
    "    data_loader = {'train': train_loader, 'test': test_loader}\n",
    "    return dataset, data_loader\n",
    "\n",
    "def load_iter(data_loader, data_type):\n",
    "    bar_format = '{bar:30} {n_fmt}/{total_fmt} [{elapsed}<{remaining} {rate_fmt}] {desc}'\n",
    "    \n",
    "    if data_type == 'train':\n",
    "        train_loader = data_loader['train']\n",
    "        train_iter = tqdm(enumerate(train_loader), total=len(train_loader), unit_scale=batch_size, bar_format=bar_format)\n",
    "        return train_iter\n",
    "    elif data_type == 'test':\n",
    "        test_loader = data_loader['test']\n",
    "        test_iter = tqdm(enumerate(test_loader), total=len(test_loader), unit_scale=batch_size, bar_format=bar_format)\n",
    "        return test_iter\n",
    "    else:\n",
    "        print('Data Error!!!')"
   ]
  },
  {
   "cell_type": "code",
   "execution_count": 4,
   "metadata": {},
   "outputs": [],
   "source": [
    "def imshow(img):\n",
    "    img[0] = img[0] * 0.2023 + 0.4914\n",
    "    img[1] = img[1] * 0.1994 + 0.4822\n",
    "    img[2] = img[2] * 0.2010 + 0.4465\n",
    "    npimg = img.numpy()\n",
    "    plt.imshow(np.transpose(npimg, (1, 2, 0)))\n",
    "    plt.show()"
   ]
  },
  {
   "cell_type": "code",
   "execution_count": 5,
   "metadata": {},
   "outputs": [],
   "source": [
    "def train(model):\n",
    "    model.train()\n",
    "    train_loss = 0\n",
    "    total = 0\n",
    "    correct = 0\n",
    "    step = 0\n",
    "    train_iter = load_iter(data_loader, 'train')\n",
    "    for i, (batch, label) in train_iter:\n",
    "        batch, label = batch.to(device), label.to(device)\n",
    "        output = model(batch)\n",
    "        \n",
    "        optimizer.zero_grad()\n",
    "        loss = loss_function(output, label)\n",
    "        loss.backward()\n",
    "        optimizer.step()\n",
    "        \n",
    "        train_loss += loss.item()\n",
    "        _, predicted = output.max(1)\n",
    "        total += label.size(0)\n",
    "        correct += predicted.eq(label).sum().item()\n",
    "\n",
    "        acc = 100. * correct / total\n",
    "        train_iter.set_description(f'[{acc:.2f}% ({correct}/{total})]', True)"
   ]
  },
  {
   "cell_type": "code",
   "execution_count": 6,
   "metadata": {},
   "outputs": [],
   "source": [
    "def test(model):\n",
    "    model.eval()\n",
    "    test_loss = 0\n",
    "    correct = 0\n",
    "    total = 0\n",
    "    acc = 0.\n",
    "    test_iter = load_iter(data_loader, 'test')\n",
    "\n",
    "    for i, (batch, label) in test_iter:\n",
    "        batch, label = batch.to(device), label.to(device)\n",
    "        output = model(batch)\n",
    "        loss = loss_function(output, label)\n",
    "\n",
    "        test_loss += loss.item()\n",
    "        _, predicted = output.max(1)\n",
    "        total += label.size(0)\n",
    "        correct += predicted.eq(label).sum().item()\n",
    "\n",
    "        acc = 100. * correct / total\n",
    "        test_iter.set_description(f'[{acc:.2f}%({correct}/{total})]', True)\n",
    "    return acc"
   ]
  },
  {
   "cell_type": "code",
   "execution_count": 7,
   "metadata": {},
   "outputs": [],
   "source": [
    "def save_model(epoch, acc, optimizer):\n",
    "    global best_acc\n",
    "    if acc > best_acc:\n",
    "        state = {\n",
    "            'model': model.state_dict(),\n",
    "            'acc': acc,\n",
    "            'epoch': epoch,\n",
    "            'optimizer': optimizer.state_dict()\n",
    "        }\n",
    "        if not os.path.isdir('models'):\n",
    "            os.mkdir('models')\n",
    "        torch.save(state, f'./models/model_{epoch}.pth')\n",
    "        best_acc = acc\n",
    "        print('Saving Model...')\n",
    "\n",
    "def load_model(name):\n",
    "    state_dict = torch.load(f'./models/{name}.pth', map_location=device)\n",
    "    model = ResNet18()\n",
    "    model.to(device)\n",
    "    model.load_state_dict(state_dict['model'])\n",
    "    optimizer = optim.SGD(model.parameters(), lr=1e-1, momentum=0.9, weight_decay=1e-4)\n",
    "#     optimizer.load_state_dict(state_dict['optimizer'])\n",
    "    return model, optimizer"
   ]
  },
  {
   "cell_type": "code",
   "execution_count": 17,
   "metadata": {},
   "outputs": [
    {
     "name": "stdout",
     "output_type": "stream",
     "text": [
      "Files already downloaded and verified\n",
      "Files already downloaded and verified\n"
     ]
    },
    {
     "name": "stderr",
     "output_type": "stream",
     "text": [
      "                               128/50048 [00:00<00:49 999.77it/s] [8.59% (11/128)]: "
     ]
    },
    {
     "name": "stdout",
     "output_type": "stream",
     "text": [
      "Epoch 1\n"
     ]
    },
    {
     "name": "stderr",
     "output_type": "stream",
     "text": [
      "██████████████████████████████ 50048/50048 [00:46<00:00 1066.55it/s] [21.78% (10891/50000)]: \n",
      "██████████████████████████████ 10112/10112 [00:03<00:00 3303.98it/s] [28.91%(2891/10000)]: \n",
      "                               128/50048 [00:00<00:49 1015.64it/s] [34.38% (44/128)]: "
     ]
    },
    {
     "name": "stdout",
     "output_type": "stream",
     "text": [
      "Saving Model...\n",
      "Epoch 2\n"
     ]
    },
    {
     "name": "stderr",
     "output_type": "stream",
     "text": [
      "██████████████████████████████ 50048/50048 [00:45<00:00 1100.73it/s] [37.02% (18511/50000)]: \n",
      "██████████████████████████████ 10112/10112 [00:03<00:00 3360.12it/s] [40.79%(4079/10000)]: \n",
      "                               128/50048 [00:00<00:46 1075.40it/s] [36.72% (47/128)]: "
     ]
    },
    {
     "name": "stdout",
     "output_type": "stream",
     "text": [
      "Saving Model...\n",
      "Epoch 3\n"
     ]
    },
    {
     "name": "stderr",
     "output_type": "stream",
     "text": [
      "██████████████████████████████ 50048/50048 [00:47<00:00 1050.06it/s] [47.13% (23566/50000)]: \n",
      "██████████████████████████████ 10112/10112 [00:03<00:00 3266.48it/s] [49.70%(4970/10000)]: \n",
      "                               128/50048 [00:00<00:46 1066.43it/s] [51.56% (66/128)]: "
     ]
    },
    {
     "name": "stdout",
     "output_type": "stream",
     "text": [
      "Saving Model...\n",
      "Epoch 4\n"
     ]
    },
    {
     "name": "stderr",
     "output_type": "stream",
     "text": [
      "██████████████████████████████ 50048/50048 [00:46<00:00 1087.80it/s] [55.03% (27515/50000)]: \n",
      "██████████████████████████████ 10112/10112 [00:02<00:00 3414.23it/s] [54.29%(5429/10000)]: \n",
      "                               128/50048 [00:00<00:46 1084.50it/s] [57.81% (74/128)]: "
     ]
    },
    {
     "name": "stdout",
     "output_type": "stream",
     "text": [
      "Saving Model...\n",
      "Epoch 5\n"
     ]
    },
    {
     "name": "stderr",
     "output_type": "stream",
     "text": [
      "██████████████████████████████ 50048/50048 [00:48<00:00 1041.46it/s] [61.93% (30963/50000)]: \n",
      "██████████████████████████████ 10112/10112 [00:02<00:00 3396.79it/s] [59.01%(5901/10000)]: \n",
      "                               128/50048 [00:00<00:44 1112.80it/s] [68.75% (88/128)]: "
     ]
    },
    {
     "name": "stdout",
     "output_type": "stream",
     "text": [
      "Saving Model...\n",
      "Epoch 6\n"
     ]
    },
    {
     "name": "stderr",
     "output_type": "stream",
     "text": [
      "██████████████████████████████ 50048/50048 [00:44<00:00 1117.36it/s] [66.93% (33466/50000)]: \n",
      "██████████████████████████████ 10112/10112 [00:02<00:00 3425.86it/s] [66.71%(6671/10000)]: \n",
      "                               128/50048 [00:00<00:45 1098.34it/s] [70.31% (90/128)]: "
     ]
    },
    {
     "name": "stdout",
     "output_type": "stream",
     "text": [
      "Saving Model...\n",
      "Epoch 7\n"
     ]
    },
    {
     "name": "stderr",
     "output_type": "stream",
     "text": [
      "██████████████████████████████ 50048/50048 [00:48<00:00 1034.31it/s] [71.49% (35745/50000)]: \n",
      "██████████████████████████████ 10112/10112 [00:03<00:00 3048.60it/s] [69.52%(6952/10000)]: \n",
      "                               128/50048 [00:00<00:52 955.01it/s] [75.78% (97/128)]: "
     ]
    },
    {
     "name": "stdout",
     "output_type": "stream",
     "text": [
      "Saving Model...\n",
      "Epoch 8\n"
     ]
    },
    {
     "name": "stderr",
     "output_type": "stream",
     "text": [
      "██████████████████████████████ 50048/50048 [00:47<00:00 1048.90it/s] [75.39% (37694/50000)]: \n",
      "██████████████████████████████ 10112/10112 [00:03<00:00 3306.08it/s] [71.64%(7164/10000)]: \n",
      "                               128/50048 [00:00<00:47 1057.65it/s] [77.34% (99/128)]: "
     ]
    },
    {
     "name": "stdout",
     "output_type": "stream",
     "text": [
      "Saving Model...\n",
      "Epoch 9\n"
     ]
    },
    {
     "name": "stderr",
     "output_type": "stream",
     "text": [
      "██████████████████████████████ 50048/50048 [00:45<00:00 1094.87it/s] [78.80% (39400/50000)]: \n",
      "██████████████████████████████ 10112/10112 [00:02<00:00 3383.65it/s] [75.77%(7577/10000)]: \n",
      "                               128/50048 [00:00<00:44 1112.80it/s] [81.25% (104/128)]: "
     ]
    },
    {
     "name": "stdout",
     "output_type": "stream",
     "text": [
      "Saving Model...\n",
      "Epoch 10\n"
     ]
    },
    {
     "name": "stderr",
     "output_type": "stream",
     "text": [
      "██████████████████████████████ 50048/50048 [00:46<00:00 1084.16it/s] [81.92% (40959/50000)]: \n",
      "██████████████████████████████ 10112/10112 [00:03<00:00 3360.11it/s] [77.93%(7793/10000)]: \n",
      "                               128/50048 [00:00<00:46 1075.40it/s] [86.72% (111/128)]: "
     ]
    },
    {
     "name": "stdout",
     "output_type": "stream",
     "text": [
      "Saving Model...\n",
      "Epoch 11\n"
     ]
    },
    {
     "name": "stderr",
     "output_type": "stream",
     "text": [
      "██████████████████████████████ 50048/50048 [00:45<00:00 1092.07it/s] [84.75% (42376/50000)]: \n",
      "██████████████████████████████ 10112/10112 [00:03<00:00 3310.69it/s] [77.53%(7753/10000)]: \n",
      "                               128/50048 [00:00<00:46 1064.97it/s] [86.72% (111/128)]: "
     ]
    },
    {
     "name": "stdout",
     "output_type": "stream",
     "text": [
      "Epoch 12\n"
     ]
    },
    {
     "name": "stderr",
     "output_type": "stream",
     "text": [
      "██████████████████████████████ 50048/50048 [00:47<00:00 1062.41it/s] [87.43% (43715/50000)]: \n",
      "██████████████████████████████ 10112/10112 [00:03<00:00 3188.84it/s] [76.59%(7659/10000)]: \n",
      "                               128/50048 [00:00<00:46 1075.39it/s] [88.28% (113/128)]: "
     ]
    },
    {
     "name": "stdout",
     "output_type": "stream",
     "text": [
      "Epoch 13\n"
     ]
    },
    {
     "name": "stderr",
     "output_type": "stream",
     "text": [
      "██████████████████████████████ 50048/50048 [00:46<00:00 1077.04it/s] [89.71% (44854/50000)]: \n",
      "██████████████████████████████ 10112/10112 [00:02<00:00 3422.72it/s] [78.26%(7826/10000)]: \n",
      "                               128/50048 [00:00<00:47 1057.62it/s] [92.97% (119/128)]: "
     ]
    },
    {
     "name": "stdout",
     "output_type": "stream",
     "text": [
      "Saving Model...\n",
      "Epoch 14\n"
     ]
    },
    {
     "name": "stderr",
     "output_type": "stream",
     "text": [
      "██████████████████████████████ 50048/50048 [00:45<00:00 1102.77it/s] [91.41% (45707/50000)]: \n",
      "██████████████████████████████ 10112/10112 [00:02<00:00 3382.05it/s] [77.38%(7738/10000)]: \n",
      "                               128/50048 [00:00<00:45 1093.77it/s] [95.31% (122/128)]: "
     ]
    },
    {
     "name": "stdout",
     "output_type": "stream",
     "text": [
      "Epoch 15\n"
     ]
    },
    {
     "name": "stderr",
     "output_type": "stream",
     "text": [
      "██████████████████████████████ 50048/50048 [00:45<00:00 1095.16it/s] [92.99% (46495/50000)]: \n",
      "██████████████████████████████ 10112/10112 [00:02<00:00 3486.65it/s] [78.53%(7853/10000)]: \n",
      "                               128/50048 [00:00<00:45 1103.20it/s] [96.09% (123/128)]: "
     ]
    },
    {
     "name": "stdout",
     "output_type": "stream",
     "text": [
      "Saving Model...\n",
      "Epoch 16\n"
     ]
    },
    {
     "name": "stderr",
     "output_type": "stream",
     "text": [
      "██████████████████████████████ 50048/50048 [00:45<00:00 1107.43it/s] [94.32% (47160/50000)]: \n",
      "██████████████████████████████ 10112/10112 [00:02<00:00 3476.91it/s] [78.98%(7898/10000)]: \n",
      "                               128/50048 [00:00<00:45 1093.77it/s] [94.53% (121/128)]: "
     ]
    },
    {
     "name": "stdout",
     "output_type": "stream",
     "text": [
      "Saving Model...\n",
      "Epoch 17\n"
     ]
    },
    {
     "name": "stderr",
     "output_type": "stream",
     "text": [
      "██████████████████████████████ 50048/50048 [00:43<00:00 1138.10it/s] [95.08% (47539/50000)]: \n",
      "██████████████████████████████ 10112/10112 [00:02<00:00 3508.02it/s] [79.38%(7938/10000)]: \n",
      "                               128/50048 [00:00<00:46 1075.39it/s] [96.88% (124/128)]: "
     ]
    },
    {
     "name": "stdout",
     "output_type": "stream",
     "text": [
      "Saving Model...\n",
      "Epoch 18\n"
     ]
    },
    {
     "name": "stderr",
     "output_type": "stream",
     "text": [
      "██████████████████████████████ 50048/50048 [00:44<00:00 1132.80it/s] [95.68% (47842/50000)]: \n",
      "██████████████████████████████ 10112/10112 [00:02<00:00 3567.82it/s] [79.00%(7900/10000)]: \n",
      "                               128/50048 [00:00<00:44 1122.57it/s] [98.44% (126/128)]: "
     ]
    },
    {
     "name": "stdout",
     "output_type": "stream",
     "text": [
      "Epoch 19\n"
     ]
    },
    {
     "name": "stderr",
     "output_type": "stream",
     "text": [
      "██████████████████████████████ 50048/50048 [00:44<00:00 1129.65it/s] [96.34% (48172/50000)]: \n",
      "██████████████████████████████ 10112/10112 [00:02<00:00 3589.20it/s] [79.67%(7967/10000)]: \n",
      "                               128/50048 [00:00<00:44 1127.44it/s] [98.44% (126/128)]: "
     ]
    },
    {
     "name": "stdout",
     "output_type": "stream",
     "text": [
      "Saving Model...\n",
      "Epoch 20\n"
     ]
    },
    {
     "name": "stderr",
     "output_type": "stream",
     "text": [
      "██████████████████████████████ 50048/50048 [00:44<00:00 1114.93it/s] [96.72% (48362/50000)]: \n",
      "██████████████████████████████ 10112/10112 [00:02<00:00 3450.11it/s] [80.19%(8019/10000)]: \n",
      "                               128/50048 [00:00<00:46 1075.40it/s] [97.66% (125/128)]: "
     ]
    },
    {
     "name": "stdout",
     "output_type": "stream",
     "text": [
      "Saving Model...\n",
      "Epoch 21\n"
     ]
    },
    {
     "name": "stderr",
     "output_type": "stream",
     "text": [
      "██████████████████████████████ 50048/50048 [00:45<00:00 1101.32it/s] [96.94% (48472/50000)]: \n",
      "██████████████████████████████ 10112/10112 [00:03<00:00 3322.60it/s] [78.88%(7888/10000)]: \n",
      "                               128/50048 [00:00<00:47 1057.62it/s] [97.66% (125/128)]: "
     ]
    },
    {
     "name": "stdout",
     "output_type": "stream",
     "text": [
      "Epoch 22\n"
     ]
    },
    {
     "name": "stderr",
     "output_type": "stream",
     "text": [
      "██████████████████████████████ 50048/50048 [00:47<00:00 1061.91it/s] [97.20% (48599/50000)]: \n",
      "██████████████████████████████ 10112/10112 [00:02<00:00 3621.55it/s] [80.01%(8001/10000)]: \n",
      "                               128/50048 [00:00<00:44 1112.76it/s] [97.66% (125/128)]: "
     ]
    },
    {
     "name": "stdout",
     "output_type": "stream",
     "text": [
      "Epoch 23\n"
     ]
    },
    {
     "name": "stderr",
     "output_type": "stream",
     "text": [
      "██████████████████████████████ 50048/50048 [00:45<00:00 1092.69it/s] [97.34% (48672/50000)]: \n",
      "██████████████████████████████ 10112/10112 [00:02<00:00 3566.67it/s] [80.48%(8048/10000)]: \n",
      "                               128/50048 [00:00<00:44 1112.88it/s] [96.88% (124/128)]: "
     ]
    },
    {
     "name": "stdout",
     "output_type": "stream",
     "text": [
      "Saving Model...\n",
      "Epoch 24\n"
     ]
    },
    {
     "name": "stderr",
     "output_type": "stream",
     "text": [
      "██████████████████████████████ 50048/50048 [00:45<00:00 1112.12it/s] [97.36% (48680/50000)]: \n",
      "██████████████████████████████ 10112/10112 [00:02<00:00 3604.16it/s] [81.21%(8121/10000)]: \n",
      "                               128/50048 [00:00<00:44 1132.50it/s] [99.22% (127/128)]: "
     ]
    },
    {
     "name": "stdout",
     "output_type": "stream",
     "text": [
      "Saving Model...\n",
      "Epoch 25\n"
     ]
    },
    {
     "name": "stderr",
     "output_type": "stream",
     "text": [
      "██████████████████████████████ 50048/50048 [00:44<00:00 1135.25it/s] [97.56% (48778/50000)]: \n",
      "██████████████████████████████ 10112/10112 [00:02<00:00 3561.01it/s] [78.88%(7888/10000)]: \n",
      "                               128/50048 [00:00<00:45 1093.85it/s] [99.22% (127/128)]: "
     ]
    },
    {
     "name": "stdout",
     "output_type": "stream",
     "text": [
      "Epoch 26\n"
     ]
    },
    {
     "name": "stderr",
     "output_type": "stream",
     "text": [
      "██████████████████████████████ 50048/50048 [00:44<00:00 1132.31it/s] [99.47% (49736/50000)]: \n",
      "██████████████████████████████ 10112/10112 [00:02<00:00 3612.58it/s] [83.82%(8382/10000)]: \n",
      "                               128/50048 [00:00<00:42 1174.06it/s] [100.00% (128/128)]: "
     ]
    },
    {
     "name": "stdout",
     "output_type": "stream",
     "text": [
      "Saving Model...\n",
      "Epoch 27\n"
     ]
    },
    {
     "name": "stderr",
     "output_type": "stream",
     "text": [
      "██████████████████████████████ 50048/50048 [00:44<00:00 1131.11it/s] [99.97% (49985/50000)]: \n",
      "██████████████████████████████ 10112/10112 [00:02<00:00 3599.05it/s] [84.17%(8417/10000)]: \n",
      "                               128/50048 [00:00<00:44 1122.55it/s] [100.00% (128/128)]: "
     ]
    },
    {
     "name": "stdout",
     "output_type": "stream",
     "text": [
      "Saving Model...\n",
      "Epoch 28\n"
     ]
    },
    {
     "name": "stderr",
     "output_type": "stream",
     "text": [
      "██████████████████████████████ 50048/50048 [00:44<00:00 1113.39it/s] [99.99% (49997/50000)]:  \n",
      "██████████████████████████████ 10112/10112 [00:02<00:00 3381.34it/s] [84.38%(8438/10000)]: \n",
      "                               128/50048 [00:00<00:46 1075.40it/s] [100.00% (128/128)]: "
     ]
    },
    {
     "name": "stdout",
     "output_type": "stream",
     "text": [
      "Saving Model...\n",
      "Epoch 29\n"
     ]
    },
    {
     "name": "stderr",
     "output_type": "stream",
     "text": [
      "██████████████████████████████ 50048/50048 [00:46<00:00 1073.67it/s] [100.00% (50000/50000)]: \n",
      "██████████████████████████████ 10112/10112 [00:02<00:00 3510.32it/s] [84.37%(8437/10000)]: \n",
      "                               128/50048 [00:00<00:46 1079.89it/s] [100.00% (128/128)]: "
     ]
    },
    {
     "name": "stdout",
     "output_type": "stream",
     "text": [
      "Epoch 30\n"
     ]
    },
    {
     "name": "stderr",
     "output_type": "stream",
     "text": [
      "██████████████████████████████ 50048/50048 [00:46<00:00 1081.97it/s] [100.00% (49999/50000)]: \n",
      "██████████████████████████████ 10112/10112 [00:03<00:00 3348.45it/s] [84.44%(8444/10000)]: \n",
      "                               128/50048 [00:00<00:49 1007.65it/s] [100.00% (128/128)]: "
     ]
    },
    {
     "name": "stdout",
     "output_type": "stream",
     "text": [
      "Saving Model...\n",
      "Epoch 31\n"
     ]
    },
    {
     "name": "stderr",
     "output_type": "stream",
     "text": [
      "██████████████████████████████ 50048/50048 [00:45<00:00 1109.59it/s] [100.00% (49999/50000)]: \n",
      "██████████████████████████████ 10112/10112 [00:02<00:00 3592.53it/s] [84.54%(8454/10000)]: \n",
      "                               128/50048 [00:00<00:44 1112.79it/s] [100.00% (128/128)]: "
     ]
    },
    {
     "name": "stdout",
     "output_type": "stream",
     "text": [
      "Saving Model...\n",
      "Epoch 32\n"
     ]
    },
    {
     "name": "stderr",
     "output_type": "stream",
     "text": [
      "██████████████████████████████ 50048/50048 [00:44<00:00 1120.25it/s] [100.00% (49999/50000)]: \n",
      "██████████████████████████████ 10112/10112 [00:02<00:00 3485.57it/s] [84.49%(8449/10000)]: \n",
      "                               128/50048 [00:00<00:46 1079.88it/s] [100.00% (128/128)]: "
     ]
    },
    {
     "name": "stdout",
     "output_type": "stream",
     "text": [
      "Epoch 33\n"
     ]
    },
    {
     "name": "stderr",
     "output_type": "stream",
     "text": [
      "███▍                           5632/50048 [00:05<00:41 1065.34it/s] [100.00% (5632/5632)]: \n"
     ]
    },
    {
     "ename": "KeyboardInterrupt",
     "evalue": "",
     "output_type": "error",
     "traceback": [
      "\u001b[1;31m---------------------------------------------------------------------------\u001b[0m",
      "\u001b[1;31mKeyboardInterrupt\u001b[0m                         Traceback (most recent call last)",
      "\u001b[1;32m<ipython-input-17-7a24ce21f92d>\u001b[0m in \u001b[0;36m<module>\u001b[1;34m\u001b[0m\n\u001b[0;32m      9\u001b[0m \u001b[1;32mfor\u001b[0m \u001b[0mepoch\u001b[0m \u001b[1;32min\u001b[0m \u001b[0mrange\u001b[0m\u001b[1;33m(\u001b[0m\u001b[1;36m1\u001b[0m\u001b[1;33m,\u001b[0m \u001b[1;36m51\u001b[0m\u001b[1;33m)\u001b[0m\u001b[1;33m:\u001b[0m\u001b[1;33m\u001b[0m\u001b[1;33m\u001b[0m\u001b[0m\n\u001b[0;32m     10\u001b[0m     \u001b[0mprint\u001b[0m\u001b[1;33m(\u001b[0m\u001b[1;34mf'Epoch {epoch}'\u001b[0m\u001b[1;33m)\u001b[0m\u001b[1;33m\u001b[0m\u001b[1;33m\u001b[0m\u001b[0m\n\u001b[1;32m---> 11\u001b[1;33m     \u001b[0mtrain\u001b[0m\u001b[1;33m(\u001b[0m\u001b[0mmodel\u001b[0m\u001b[1;33m)\u001b[0m\u001b[1;33m\u001b[0m\u001b[1;33m\u001b[0m\u001b[0m\n\u001b[0m\u001b[0;32m     12\u001b[0m     \u001b[0mtest_acc\u001b[0m \u001b[1;33m=\u001b[0m \u001b[0mtest\u001b[0m\u001b[1;33m(\u001b[0m\u001b[0mmodel\u001b[0m\u001b[1;33m)\u001b[0m\u001b[1;33m\u001b[0m\u001b[1;33m\u001b[0m\u001b[0m\n\u001b[0;32m     13\u001b[0m     \u001b[0msave_model\u001b[0m\u001b[1;33m(\u001b[0m\u001b[0mepoch\u001b[0m\u001b[1;33m,\u001b[0m \u001b[0mtest_acc\u001b[0m\u001b[1;33m,\u001b[0m \u001b[0moptimizer\u001b[0m\u001b[1;33m)\u001b[0m\u001b[1;33m\u001b[0m\u001b[1;33m\u001b[0m\u001b[0m\n",
      "\u001b[1;32m<ipython-input-5-f50acf1c597b>\u001b[0m in \u001b[0;36mtrain\u001b[1;34m(model)\u001b[0m\n\u001b[0;32m     15\u001b[0m         \u001b[0moptimizer\u001b[0m\u001b[1;33m.\u001b[0m\u001b[0mstep\u001b[0m\u001b[1;33m(\u001b[0m\u001b[1;33m)\u001b[0m\u001b[1;33m\u001b[0m\u001b[1;33m\u001b[0m\u001b[0m\n\u001b[0;32m     16\u001b[0m \u001b[1;33m\u001b[0m\u001b[0m\n\u001b[1;32m---> 17\u001b[1;33m         \u001b[0mtrain_loss\u001b[0m \u001b[1;33m+=\u001b[0m \u001b[0mloss\u001b[0m\u001b[1;33m.\u001b[0m\u001b[0mitem\u001b[0m\u001b[1;33m(\u001b[0m\u001b[1;33m)\u001b[0m\u001b[1;33m\u001b[0m\u001b[1;33m\u001b[0m\u001b[0m\n\u001b[0m\u001b[0;32m     18\u001b[0m         \u001b[0m_\u001b[0m\u001b[1;33m,\u001b[0m \u001b[0mpredicted\u001b[0m \u001b[1;33m=\u001b[0m \u001b[0moutput\u001b[0m\u001b[1;33m.\u001b[0m\u001b[0mmax\u001b[0m\u001b[1;33m(\u001b[0m\u001b[1;36m1\u001b[0m\u001b[1;33m)\u001b[0m\u001b[1;33m\u001b[0m\u001b[1;33m\u001b[0m\u001b[0m\n\u001b[0;32m     19\u001b[0m         \u001b[0mtotal\u001b[0m \u001b[1;33m+=\u001b[0m \u001b[0mlabel\u001b[0m\u001b[1;33m.\u001b[0m\u001b[0msize\u001b[0m\u001b[1;33m(\u001b[0m\u001b[1;36m0\u001b[0m\u001b[1;33m)\u001b[0m\u001b[1;33m\u001b[0m\u001b[1;33m\u001b[0m\u001b[0m\n",
      "\u001b[1;31mKeyboardInterrupt\u001b[0m: "
     ]
    }
   ],
   "source": [
    "# Training\n",
    "model = ResNet18()\n",
    "model.to(device)\n",
    "loss_function = nn.CrossEntropyLoss()\n",
    "optimizer = optim.SGD(model.parameters(), lr=1e-1, momentum=0.9, weight_decay=1e-4)\n",
    "scheduler = lr_scheduler.MultiStepLR(optimizer, milestones=[25, 35])\n",
    "best_acc = 0\n",
    "dataset, data_loader = load_data()\n",
    "for epoch in range(1, 51):\n",
    "    print(f'Epoch {epoch}')\n",
    "    train(model)\n",
    "    test_acc = test(model)\n",
    "    save_model(epoch, test_acc, optimizer)\n",
    "    scheduler.step()"
   ]
  },
  {
   "cell_type": "code",
   "execution_count": null,
   "metadata": {
    "scrolled": false
   },
   "outputs": [],
   "source": [
    "# Validation\n",
    "model, optimizer = load_model('baseline')\n",
    "loss_function = nn.CrossEntropyLoss()\n",
    "test(model)"
   ]
  },
  {
   "cell_type": "markdown",
   "metadata": {},
   "source": [
    "## Adversarial Training"
   ]
  },
  {
   "cell_type": "code",
   "execution_count": 9,
   "metadata": {},
   "outputs": [
    {
     "name": "stdout",
     "output_type": "stream",
     "text": [
      "Files already downloaded and verified\n",
      "Files already downloaded and verified\n"
     ]
    },
    {
     "name": "stderr",
     "output_type": "stream",
     "text": [
      "██████████████████████████████ 50048/50048 [02:51<00:00 291.48it/s] [# of Collected Adv Instances : 10239]: \n"
     ]
    }
   ],
   "source": [
    "model, optimizer = load_model('baseline_2')\n",
    "epsilon = 0.01\n",
    "dataset, data_loader = load_data()\n",
    "adv_instances = collect_advs(model, data_loader, epsilon)"
   ]
  },
  {
   "cell_type": "code",
   "execution_count": 11,
   "metadata": {},
   "outputs": [
    {
     "data": {
      "text/plain": [
       "10239"
      ]
     },
     "execution_count": 11,
     "metadata": {},
     "output_type": "execute_result"
    }
   ],
   "source": [
    "advset = AdvDataSet(adv_instances)\n",
    "advset.slicing(42, 2000)\n",
    "trainset = dataset['train']\n",
    "advset_list = advset.concat_dataset(trainset)\n",
    "len(advset)"
   ]
  },
  {
   "cell_type": "code",
   "execution_count": 12,
   "metadata": {},
   "outputs": [
    {
     "data": {
      "text/plain": [
       "60239"
      ]
     },
     "execution_count": 12,
     "metadata": {},
     "output_type": "execute_result"
    }
   ],
   "source": [
    "from torch.utils.data import Dataset, ConcatDataset\n",
    "a = ConcatDataset([advset, trainset])\n",
    "len(a)"
   ]
  },
  {
   "cell_type": "code",
   "execution_count": 22,
   "metadata": {},
   "outputs": [
    {
     "name": "stderr",
     "output_type": "stream",
     "text": [
      "                               128/52096 [00:00<00:52 992.03it/s] [15.62% (20/128)]: "
     ]
    },
    {
     "name": "stdout",
     "output_type": "stream",
     "text": [
      "Epoch 1\n"
     ]
    },
    {
     "name": "stderr",
     "output_type": "stream",
     "text": [
      "██████████████████████████████ 52096/52096 [00:48<00:00 1074.23it/s] [46.91% (24391/52000)]: \n",
      "██████████████████████████████ 10112/10112 [00:02<00:00 3575.04it/s] [52.28%(5228/10000)]: \n",
      "                               128/52096 [00:00<00:47 1103.20it/s] [61.72% (79/128)]: "
     ]
    },
    {
     "name": "stdout",
     "output_type": "stream",
     "text": [
      "Saving Model...\n",
      "Epoch 2\n"
     ]
    },
    {
     "name": "stderr",
     "output_type": "stream",
     "text": [
      "██████████████████████████████ 52096/52096 [00:47<00:00 1100.88it/s] [68.27% (35501/52000)]: \n",
      "██████████████████████████████ 10112/10112 [00:02<00:00 3572.76it/s] [70.07%(7007/10000)]: \n",
      "                               128/52096 [00:00<00:47 1084.51it/s] [72.66% (93/128)]: "
     ]
    },
    {
     "name": "stdout",
     "output_type": "stream",
     "text": [
      "Saving Model...\n",
      "Epoch 3\n"
     ]
    },
    {
     "name": "stderr",
     "output_type": "stream",
     "text": [
      "██████████████████████████████ 52096/52096 [00:47<00:00 1096.44it/s] [77.45% (40274/52000)]: \n",
      "██████████████████████████████ 10112/10112 [00:02<00:00 3609.31it/s] [74.27%(7427/10000)]: \n",
      "                               128/52096 [00:00<00:46 1122.65it/s] [82.03% (105/128)]: "
     ]
    },
    {
     "name": "stdout",
     "output_type": "stream",
     "text": [
      "Saving Model...\n",
      "Epoch 4\n"
     ]
    },
    {
     "name": "stderr",
     "output_type": "stream",
     "text": [
      "██████████████████████████████ 52096/52096 [00:47<00:00 1106.93it/s] [82.93% (43123/52000)]: \n",
      "██████████████████████████████ 10112/10112 [00:02<00:00 3557.23it/s] [79.27%(7927/10000)]: \n",
      "                               128/52096 [00:00<00:46 1112.79it/s] [86.72% (111/128)]: "
     ]
    },
    {
     "name": "stdout",
     "output_type": "stream",
     "text": [
      "Saving Model...\n",
      "Epoch 5\n"
     ]
    },
    {
     "name": "stderr",
     "output_type": "stream",
     "text": [
      "██████████████████████████████ 52096/52096 [00:46<00:00 1120.44it/s] [86.90% (45189/52000)]: \n",
      "██████████████████████████████ 10112/10112 [00:02<00:00 3582.45it/s] [81.86%(8186/10000)]: \n",
      "                               128/52096 [00:00<00:46 1112.80it/s] [93.75% (120/128)]: "
     ]
    },
    {
     "name": "stdout",
     "output_type": "stream",
     "text": [
      "Saving Model...\n",
      "Epoch 6\n"
     ]
    },
    {
     "name": "stderr",
     "output_type": "stream",
     "text": [
      "██████████████████████████████ 52096/52096 [00:46<00:00 1118.88it/s] [89.65% (46616/52000)]: \n",
      "██████████████████████████████ 10112/10112 [00:02<00:00 3570.28it/s] [80.40%(8040/10000)]: \n",
      "                               128/52096 [00:00<00:47 1093.85it/s] [95.31% (122/128)]: "
     ]
    },
    {
     "name": "stdout",
     "output_type": "stream",
     "text": [
      "Epoch 7\n"
     ]
    },
    {
     "name": "stderr",
     "output_type": "stream",
     "text": [
      "██████████████████████████████ 52096/52096 [00:49<00:00 1057.06it/s] [92.03% (47858/52000)]: \n",
      "██████████████████████████████ 10112/10112 [00:02<00:00 3452.02it/s] [79.76%(7976/10000)]: \n",
      "                               128/52096 [00:00<00:46 1122.56it/s] [91.41% (117/128)]: "
     ]
    },
    {
     "name": "stdout",
     "output_type": "stream",
     "text": [
      "Epoch 8\n"
     ]
    },
    {
     "name": "stderr",
     "output_type": "stream",
     "text": [
      "██████████████████████████████ 52096/52096 [00:48<00:00 1077.14it/s] [94.09% (48927/52000)]: \n",
      "██████████████████████████████ 10112/10112 [00:02<00:00 3620.30it/s] [80.49%(8049/10000)]: \n",
      "                               128/52096 [00:00<00:46 1122.56it/s] [94.53% (121/128)]: "
     ]
    },
    {
     "name": "stdout",
     "output_type": "stream",
     "text": [
      "Epoch 9\n"
     ]
    },
    {
     "name": "stderr",
     "output_type": "stream",
     "text": [
      "██████████████████████████████ 52096/52096 [00:48<00:00 1076.59it/s] [95.29% (49550/52000)]: \n",
      "██████████████████████████████ 10112/10112 [00:02<00:00 3570.19it/s] [82.37%(8237/10000)]: \n",
      "                               128/52096 [00:00<00:45 1140.66it/s] [96.88% (124/128)]: "
     ]
    },
    {
     "name": "stdout",
     "output_type": "stream",
     "text": [
      "Saving Model...\n",
      "Epoch 10\n"
     ]
    },
    {
     "name": "stderr",
     "output_type": "stream",
     "text": [
      "██████████████████████████████ 52096/52096 [00:48<00:00 1070.37it/s] [96.16% (50001/52000)]: \n",
      "██████████████████████████████ 10112/10112 [00:02<00:00 3373.27it/s] [83.61%(8361/10000)]: \n",
      "                               128/52096 [00:00<00:51 1011.19it/s] [92.97% (119/128)]: "
     ]
    },
    {
     "name": "stdout",
     "output_type": "stream",
     "text": [
      "Saving Model...\n",
      "Epoch 11\n"
     ]
    },
    {
     "name": "stderr",
     "output_type": "stream",
     "text": [
      "██████████████████████████████ 52096/52096 [00:48<00:00 1066.13it/s] [96.73% (50301/52000)]: \n",
      "██████████████████████████████ 10112/10112 [00:02<00:00 3554.30it/s] [82.34%(8234/10000)]: \n",
      "                               128/52096 [00:00<00:47 1084.50it/s] [97.66% (125/128)]: "
     ]
    },
    {
     "name": "stdout",
     "output_type": "stream",
     "text": [
      "Epoch 12\n"
     ]
    },
    {
     "name": "stderr",
     "output_type": "stream",
     "text": [
      "██████████████████████████████ 52096/52096 [00:52<00:00 992.30it/s] [97.46% (50677/52000)]:  \n",
      "██████████████████████████████ 10112/10112 [00:03<00:00 3064.46it/s] [83.74%(8374/10000)]: \n",
      "                               128/52096 [00:00<00:58 888.69it/s] [99.22% (127/128)]: "
     ]
    },
    {
     "name": "stdout",
     "output_type": "stream",
     "text": [
      "Saving Model...\n",
      "Epoch 13\n"
     ]
    },
    {
     "name": "stderr",
     "output_type": "stream",
     "text": [
      "██████████████████████████████ 52096/52096 [00:57<00:00 898.28it/s] [97.84% (50875/52000)]: \n",
      "██████████████████████████████ 10112/10112 [00:03<00:00 3133.82it/s] [83.33%(8333/10000)]: \n",
      "                               128/52096 [00:00<01:01 847.49it/s] [100.00% (128/128)]: "
     ]
    },
    {
     "name": "stdout",
     "output_type": "stream",
     "text": [
      "Epoch 14\n"
     ]
    },
    {
     "name": "stderr",
     "output_type": "stream",
     "text": [
      "██████████████████████████████ 52096/52096 [00:57<00:00 901.76it/s] [97.48% (50692/52000)]: \n",
      "██████████████████████████████ 10112/10112 [00:03<00:00 3105.64it/s] [82.72%(8272/10000)]: \n",
      "                               128/52096 [00:00<00:57 901.50it/s] [99.22% (127/128)]: "
     ]
    },
    {
     "name": "stdout",
     "output_type": "stream",
     "text": [
      "Epoch 15\n"
     ]
    },
    {
     "name": "stderr",
     "output_type": "stream",
     "text": [
      "██████████████████████████████ 52096/52096 [00:57<00:00 908.59it/s] [97.97% (50946/52000)]: \n",
      "██████████████████████████████ 10112/10112 [00:03<00:00 3117.58it/s] [84.19%(8419/10000)]: \n",
      "                               128/52096 [00:00<00:57 901.20it/s] [99.22% (127/128)]: "
     ]
    },
    {
     "name": "stdout",
     "output_type": "stream",
     "text": [
      "Saving Model...\n",
      "Epoch 16\n"
     ]
    },
    {
     "name": "stderr",
     "output_type": "stream",
     "text": [
      "██████████████████████████████ 52096/52096 [00:58<00:00 883.56it/s] [98.24% (51087/52000)]: \n",
      "██████████████████████████████ 10112/10112 [00:03<00:00 3016.36it/s] [84.55%(8455/10000)]: \n",
      "                               128/52096 [00:00<01:03 820.60it/s] [99.22% (127/128)]: "
     ]
    },
    {
     "name": "stdout",
     "output_type": "stream",
     "text": [
      "Saving Model...\n",
      "Epoch 17\n"
     ]
    },
    {
     "name": "stderr",
     "output_type": "stream",
     "text": [
      "██████████████████████████████ 52096/52096 [01:00<00:00 864.95it/s] [97.99% (50953/52000)]: \n",
      "██████████████████████████████ 10112/10112 [00:03<00:00 3106.85it/s] [83.26%(8326/10000)]: \n",
      "                               128/52096 [00:00<00:59 876.52it/s] [97.66% (125/128)]: "
     ]
    },
    {
     "name": "stdout",
     "output_type": "stream",
     "text": [
      "Epoch 18\n"
     ]
    },
    {
     "name": "stderr",
     "output_type": "stream",
     "text": [
      "██████████████████████████████ 52096/52096 [00:57<00:00 906.44it/s] [98.40% (51166/52000)]: \n",
      "██████████████████████████████ 10112/10112 [00:03<00:00 3109.47it/s] [82.68%(8268/10000)]: \n",
      "                               128/52096 [00:00<00:56 914.02it/s] [96.88% (124/128)]: "
     ]
    },
    {
     "name": "stdout",
     "output_type": "stream",
     "text": [
      "Epoch 19\n"
     ]
    },
    {
     "name": "stderr",
     "output_type": "stream",
     "text": [
      "██████████████████████████████ 52096/52096 [00:48<00:00 1067.44it/s] [98.41% (51174/52000)]: \n",
      "██████████████████████████████ 10112/10112 [00:02<00:00 3569.71it/s] [84.32%(8432/10000)]: \n",
      "                               128/52096 [00:00<00:49 1057.61it/s] [96.09% (123/128)]: "
     ]
    },
    {
     "name": "stdout",
     "output_type": "stream",
     "text": [
      "Epoch 20\n"
     ]
    },
    {
     "name": "stderr",
     "output_type": "stream",
     "text": [
      "██████████████████████████████ 52096/52096 [00:46<00:00 1125.07it/s] [98.47% (51206/52000)]: \n",
      "██████████████████████████████ 10112/10112 [00:02<00:00 3611.11it/s] [82.97%(8297/10000)]: \n",
      "                               128/52096 [00:00<00:47 1093.78it/s] [100.00% (128/128)]: "
     ]
    },
    {
     "name": "stdout",
     "output_type": "stream",
     "text": [
      "Epoch 21\n"
     ]
    },
    {
     "name": "stderr",
     "output_type": "stream",
     "text": [
      "██████████████████████████████ 52096/52096 [00:49<00:00 1056.18it/s] [98.51% (51223/52000)]: \n",
      "██████████████████████████████ 10112/10112 [00:02<00:00 3475.65it/s] [81.30%(8130/10000)]: \n",
      "                               128/52096 [00:00<00:47 1093.77it/s] [98.44% (126/128)]: "
     ]
    },
    {
     "name": "stdout",
     "output_type": "stream",
     "text": [
      "Epoch 22\n"
     ]
    },
    {
     "name": "stderr",
     "output_type": "stream",
     "text": [
      "██████████████████████████████ 52096/52096 [00:47<00:00 1092.37it/s] [98.29% (51111/52000)]: \n",
      "██████████████████████████████ 10112/10112 [00:03<00:00 3317.22it/s] [84.84%(8484/10000)]: \n",
      "                               128/52096 [00:00<00:46 1112.80it/s] [99.22% (127/128)]: "
     ]
    },
    {
     "name": "stdout",
     "output_type": "stream",
     "text": [
      "Saving Model...\n",
      "Epoch 23\n"
     ]
    },
    {
     "name": "stderr",
     "output_type": "stream",
     "text": [
      "██████████████████████████████ 52096/52096 [00:47<00:00 1089.55it/s] [98.36% (51148/52000)]: \n",
      "██████████████████████████████ 10112/10112 [00:02<00:00 3515.58it/s] [83.68%(8368/10000)]: \n",
      "                               128/52096 [00:00<00:50 1023.77it/s] [96.09% (123/128)]: "
     ]
    },
    {
     "name": "stdout",
     "output_type": "stream",
     "text": [
      "Epoch 24\n"
     ]
    },
    {
     "name": "stderr",
     "output_type": "stream",
     "text": [
      "██████████████████████████████ 52096/52096 [00:49<00:00 1044.73it/s] [98.36% (51146/52000)]: \n",
      "██████████████████████████████ 10112/10112 [00:02<00:00 3579.22it/s] [83.13%(8313/10000)]: \n",
      "                               128/52096 [00:00<00:50 1023.91it/s] [98.44% (126/128)]: "
     ]
    },
    {
     "name": "stdout",
     "output_type": "stream",
     "text": [
      "Epoch 25\n"
     ]
    },
    {
     "name": "stderr",
     "output_type": "stream",
     "text": [
      "██████████████████████████████ 52096/52096 [00:56<00:00 918.79it/s] [98.30% (51114/52000)]: \n",
      "██████████████████████████████ 10112/10112 [00:03<00:00 3104.47it/s] [83.89%(8389/10000)]: \n",
      "                               128/52096 [00:00<00:58 882.56it/s] [100.00% (128/128)]: "
     ]
    },
    {
     "name": "stdout",
     "output_type": "stream",
     "text": [
      "Epoch 26\n"
     ]
    },
    {
     "name": "stderr",
     "output_type": "stream",
     "text": [
      "██████████████████████████████ 52096/52096 [00:58<00:00 884.06it/s] [99.61% (51796/52000)]: \n",
      "██████████████████████████████ 10112/10112 [00:03<00:00 3090.23it/s] [86.35%(8635/10000)]: \n",
      "                               128/52096 [00:00<00:59 870.55it/s] [100.00% (128/128)]: "
     ]
    },
    {
     "name": "stdout",
     "output_type": "stream",
     "text": [
      "Saving Model...\n",
      "Epoch 27\n"
     ]
    },
    {
     "name": "stderr",
     "output_type": "stream",
     "text": [
      "██████████████████████████████ 52096/52096 [00:54<00:00 949.28it/s] [99.97% (51986/52000)]:  \n",
      "██████████████████████████████ 10112/10112 [00:02<00:00 3483.66it/s] [86.58%(8658/10000)]: \n",
      "                               128/52096 [00:00<00:47 1093.86it/s] [100.00% (128/128)]: "
     ]
    },
    {
     "name": "stdout",
     "output_type": "stream",
     "text": [
      "Saving Model...\n",
      "Epoch 28\n"
     ]
    },
    {
     "name": "stderr",
     "output_type": "stream",
     "text": [
      "██████████████████████████████ 52096/52096 [00:48<00:00 1072.17it/s] [99.99% (51995/52000)]: \n",
      "██████████████████████████████ 10112/10112 [00:02<00:00 3538.56it/s] [86.73%(8673/10000)]: \n",
      "                               128/52096 [00:00<00:47 1093.77it/s] [100.00% (128/128)]: "
     ]
    },
    {
     "name": "stdout",
     "output_type": "stream",
     "text": [
      "Saving Model...\n",
      "Epoch 29\n"
     ]
    },
    {
     "name": "stderr",
     "output_type": "stream",
     "text": [
      "██████████████████████████████ 52096/52096 [00:49<00:00 1060.60it/s] [100.00% (51998/52000)]: \n",
      "██████████████████████████████ 10112/10112 [00:03<00:00 3325.63it/s] [86.77%(8677/10000)]: \n",
      "                               128/52096 [00:00<00:52 992.02it/s] [100.00% (128/128)]: "
     ]
    },
    {
     "name": "stdout",
     "output_type": "stream",
     "text": [
      "Saving Model...\n",
      "Epoch 30\n"
     ]
    },
    {
     "name": "stderr",
     "output_type": "stream",
     "text": [
      "██████████████████████████████ 52096/52096 [00:54<00:00 951.08it/s] [100.00% (52000/52000)]:  \n",
      "██████████████████████████████ 10112/10112 [00:03<00:00 3060.18it/s] [86.80%(8680/10000)]: \n",
      "                               128/52096 [00:00<00:58 882.89it/s] [100.00% (128/128)]: "
     ]
    },
    {
     "name": "stdout",
     "output_type": "stream",
     "text": [
      "Saving Model...\n",
      "Epoch 31\n"
     ]
    },
    {
     "name": "stderr",
     "output_type": "stream",
     "text": [
      "██████████████████████████████ 52096/52096 [00:58<00:00 897.00it/s] [100.00% (52000/52000)]: \n",
      "██████████████████████████████ 10112/10112 [00:03<00:00 3106.86it/s] [86.85%(8685/10000)]: \n",
      "                               128/52096 [00:00<00:57 901.21it/s] [100.00% (128/128)]: "
     ]
    },
    {
     "name": "stdout",
     "output_type": "stream",
     "text": [
      "Saving Model...\n",
      "Epoch 32\n"
     ]
    },
    {
     "name": "stderr",
     "output_type": "stream",
     "text": [
      "██████████████████████████████ 52096/52096 [00:51<00:00 1014.47it/s] [100.00% (52000/52000)]: \n",
      "██████████████████████████████ 10112/10112 [00:02<00:00 3475.10it/s] [86.80%(8680/10000)]: \n",
      "                               128/52096 [00:00<00:49 1048.93it/s] [100.00% (128/128)]: "
     ]
    },
    {
     "name": "stdout",
     "output_type": "stream",
     "text": [
      "Epoch 33\n"
     ]
    },
    {
     "name": "stderr",
     "output_type": "stream",
     "text": [
      "██████████████████████████████ 52096/52096 [00:48<00:00 1083.45it/s] [100.00% (51998/52000)]: \n",
      "██████████████████████████████ 10112/10112 [00:02<00:00 3429.30it/s] [86.91%(8691/10000)]: \n",
      "                               128/52096 [00:00<00:54 962.06it/s] [100.00% (128/128)]: "
     ]
    },
    {
     "name": "stdout",
     "output_type": "stream",
     "text": [
      "Saving Model...\n",
      "Epoch 34\n"
     ]
    },
    {
     "name": "stderr",
     "output_type": "stream",
     "text": [
      "██████████████████████████████ 52096/52096 [00:47<00:00 1094.31it/s] [100.00% (52000/52000)]: \n",
      "██████████████████████████████ 10112/10112 [00:02<00:00 3493.87it/s] [87.02%(8702/10000)]: \n",
      "                               128/52096 [00:00<00:52 984.37it/s] [100.00% (128/128)]: "
     ]
    },
    {
     "name": "stdout",
     "output_type": "stream",
     "text": [
      "Saving Model...\n",
      "Epoch 35\n"
     ]
    },
    {
     "name": "stderr",
     "output_type": "stream",
     "text": [
      "██████████████████████████████ 52096/52096 [00:51<00:00 1004.66it/s] [100.00% (52000/52000)]: \n",
      "██████████████████████████████ 10112/10112 [00:03<00:00 3215.56it/s] [86.94%(8694/10000)]: \n",
      "                               128/52096 [00:00<00:55 940.97it/s] [100.00% (128/128)]: "
     ]
    },
    {
     "name": "stdout",
     "output_type": "stream",
     "text": [
      "Epoch 36\n"
     ]
    },
    {
     "name": "stderr",
     "output_type": "stream",
     "text": [
      "██████████████████████████████ 52096/52096 [00:57<00:00 908.76it/s] [100.00% (52000/52000)]: \n",
      "██████████████████████████████ 10112/10112 [00:03<00:00 3134.50it/s] [86.97%(8697/10000)]: \n",
      "                               128/52096 [00:00<00:56 927.63it/s] [100.00% (128/128)]: "
     ]
    },
    {
     "name": "stdout",
     "output_type": "stream",
     "text": [
      "Epoch 37\n"
     ]
    },
    {
     "name": "stderr",
     "output_type": "stream",
     "text": [
      "██████████████████████████████ 52096/52096 [00:58<00:00 896.82it/s] [100.00% (52000/52000)]: \n",
      "██████████████████████████████ 10112/10112 [00:03<00:00 3122.77it/s] [87.00%(8700/10000)]: \n",
      "                               128/52096 [00:00<00:49 1057.83it/s] [100.00% (128/128)]: "
     ]
    },
    {
     "name": "stdout",
     "output_type": "stream",
     "text": [
      "Epoch 38\n"
     ]
    },
    {
     "name": "stderr",
     "output_type": "stream",
     "text": [
      "██████████████████████████████ 52096/52096 [00:50<00:00 1023.79it/s] [100.00% (52000/52000)]: \n",
      "██████████████████████████████ 10112/10112 [00:03<00:00 3212.46it/s] [86.94%(8694/10000)]: \n",
      "                               128/52096 [00:00<00:56 914.07it/s] [100.00% (128/128)]: "
     ]
    },
    {
     "name": "stdout",
     "output_type": "stream",
     "text": [
      "Epoch 39\n"
     ]
    },
    {
     "name": "stderr",
     "output_type": "stream",
     "text": [
      "██████████████████████████████ 52096/52096 [00:55<00:00 946.11it/s] [100.00% (52000/52000)]: \n",
      "██████████████████████████████ 10112/10112 [00:03<00:00 3063.54it/s] [86.94%(8694/10000)]: \n",
      "                               128/52096 [00:00<01:01 841.92it/s] [100.00% (128/128)]: "
     ]
    },
    {
     "name": "stdout",
     "output_type": "stream",
     "text": [
      "Epoch 40\n"
     ]
    },
    {
     "name": "stderr",
     "output_type": "stream",
     "text": [
      "██████████████████████████████ 52096/52096 [00:57<00:00 907.40it/s] [100.00% (52000/52000)]: \n",
      "██████████████████████████████ 10112/10112 [00:03<00:00 3155.33it/s] [86.96%(8696/10000)]: \n",
      "                               128/52096 [00:00<00:59 870.56it/s] [100.00% (128/128)]: "
     ]
    },
    {
     "name": "stdout",
     "output_type": "stream",
     "text": [
      "Epoch 41\n"
     ]
    },
    {
     "name": "stderr",
     "output_type": "stream",
     "text": [
      "██████████████████████████████ 52096/52096 [00:57<00:00 911.04it/s] [100.00% (52000/52000)]: \n",
      "██████████████████████████████ 10112/10112 [00:03<00:00 3167.97it/s] [87.03%(8703/10000)]: \n",
      "                               128/52096 [00:00<00:59 870.55it/s] [100.00% (128/128)]: "
     ]
    },
    {
     "name": "stdout",
     "output_type": "stream",
     "text": [
      "Saving Model...\n",
      "Epoch 42\n"
     ]
    },
    {
     "name": "stderr",
     "output_type": "stream",
     "text": [
      "██████████████████████████████ 52096/52096 [00:57<00:00 903.81it/s] [100.00% (52000/52000)]: \n",
      "██████████████████████████████ 10112/10112 [00:03<00:00 3052.45it/s] [86.93%(8693/10000)]: \n",
      "                               128/52096 [00:00<01:00 864.67it/s] [100.00% (128/128)]: "
     ]
    },
    {
     "name": "stdout",
     "output_type": "stream",
     "text": [
      "Epoch 43\n"
     ]
    },
    {
     "name": "stderr",
     "output_type": "stream",
     "text": [
      "██████████████████████████████ 52096/52096 [00:57<00:00 911.71it/s] [100.00% (52000/52000)]: \n",
      "██████████████████████████████ 10112/10112 [00:03<00:00 3130.64it/s] [86.91%(8691/10000)]: \n",
      "                               128/52096 [00:00<00:56 920.58it/s] [100.00% (128/128)]: "
     ]
    },
    {
     "name": "stdout",
     "output_type": "stream",
     "text": [
      "Epoch 44\n"
     ]
    },
    {
     "name": "stderr",
     "output_type": "stream",
     "text": [
      "██████████████████████████████ 52096/52096 [00:53<00:00 970.47it/s] [100.00% (52000/52000)]:  \n",
      "██████████████████████████████ 10112/10112 [00:02<00:00 3485.81it/s] [87.12%(8712/10000)]: \n",
      "                               128/52096 [00:00<00:46 1112.87it/s] [100.00% (128/128)]: "
     ]
    },
    {
     "name": "stdout",
     "output_type": "stream",
     "text": [
      "Saving Model...\n",
      "Epoch 45\n"
     ]
    },
    {
     "name": "stderr",
     "output_type": "stream",
     "text": [
      "██████████████████████████████ 52096/52096 [00:48<00:00 1065.73it/s] [100.00% (52000/52000)]: \n",
      "██████████████████████████████ 10112/10112 [00:02<00:00 3533.14it/s] [86.97%(8697/10000)]: \n",
      "                               128/52096 [00:00<00:47 1086.87it/s] [100.00% (128/128)]: "
     ]
    },
    {
     "name": "stdout",
     "output_type": "stream",
     "text": [
      "Epoch 46\n"
     ]
    },
    {
     "name": "stderr",
     "output_type": "stream",
     "text": [
      "██████████████████████████████ 52096/52096 [00:50<00:00 1026.04it/s] [100.00% (52000/52000)]: \n",
      "██████████████████████████████ 10112/10112 [00:03<00:00 3289.24it/s] [87.01%(8701/10000)]: \n",
      "                               128/52096 [00:00<00:52 992.03it/s] [100.00% (128/128)]: "
     ]
    },
    {
     "name": "stdout",
     "output_type": "stream",
     "text": [
      "Epoch 47\n"
     ]
    },
    {
     "name": "stderr",
     "output_type": "stream",
     "text": [
      "██████████████████████████████ 52096/52096 [00:45<00:00 1154.57it/s] [100.00% (52000/52000)]: \n",
      "██████████████████████████████ 10112/10112 [00:02<00:00 3688.78it/s] [86.94%(8694/10000)]: \n",
      "                               128/52096 [00:00<00:45 1142.68it/s] [100.00% (128/128)]: "
     ]
    },
    {
     "name": "stdout",
     "output_type": "stream",
     "text": [
      "Epoch 48\n"
     ]
    },
    {
     "name": "stderr",
     "output_type": "stream",
     "text": [
      "██████████████████████████████ 52096/52096 [00:44<00:00 1171.26it/s] [100.00% (52000/52000)]: \n",
      "██████████████████████████████ 10112/10112 [00:02<00:00 3686.09it/s] [86.84%(8684/10000)]: \n",
      "                               128/52096 [00:00<00:45 1142.61it/s] [100.00% (128/128)]: "
     ]
    },
    {
     "name": "stdout",
     "output_type": "stream",
     "text": [
      "Epoch 49\n"
     ]
    },
    {
     "name": "stderr",
     "output_type": "stream",
     "text": [
      "██████████████████████████████ 52096/52096 [00:44<00:00 1182.09it/s] [100.00% (52000/52000)]: \n",
      "██████████████████████████████ 10112/10112 [00:02<00:00 3687.00it/s] [86.89%(8689/10000)]: \n",
      "                               128/52096 [00:00<00:44 1174.05it/s] [100.00% (128/128)]: "
     ]
    },
    {
     "name": "stdout",
     "output_type": "stream",
     "text": [
      "Epoch 50\n"
     ]
    },
    {
     "name": "stderr",
     "output_type": "stream",
     "text": [
      "██████████████████████████████ 52096/52096 [00:44<00:00 1181.55it/s] [100.00% (52000/52000)]: \n",
      "██████████████████████████████ 10112/10112 [00:02<00:00 3673.58it/s] [86.89%(8689/10000)]: \n"
     ]
    }
   ],
   "source": [
    "# Training\n",
    "model = ResNet18()\n",
    "model.to(device)\n",
    "loss_function = nn.CrossEntropyLoss()\n",
    "optimizer = optim.SGD(model.parameters(), lr=1e-1, momentum=0.9, weight_decay=1e-4)\n",
    "scheduler = lr_scheduler.MultiStepLR(optimizer, milestones=[25, 35])\n",
    "best_acc = 0\n",
    "data_loader['train'] = torch.utils.data.DataLoader(advset_list[4], batch_size=batch_size, shuffle=True)\n",
    "for epoch in range(1, 51):\n",
    "    print(f'Epoch {epoch}')\n",
    "    train(model)\n",
    "    test_acc = test(model)\n",
    "    save_model(epoch, test_acc, optimizer)\n",
    "    scheduler.step()"
   ]
  },
  {
   "cell_type": "code",
   "execution_count": 24,
   "metadata": {},
   "outputs": [
    {
     "name": "stdout",
     "output_type": "stream",
     "text": [
      "baseline_2 85.53\n",
      "slice_000 86.45\n",
      "slice_001 86.89\n",
      "slice_002 87.24\n",
      "slice_003 86.99\n",
      "slice_004 87.12\n"
     ]
    }
   ],
   "source": [
    "model_list = ['baseline_2']\n",
    "model_list += [f'slice_00{i}' for i in range(5)]\n",
    "for m in model_list:\n",
    "    state_dict = torch.load(f'models/{m}.pth')\n",
    "    print(m, state_dict['acc'])"
   ]
  }
 ],
 "metadata": {
  "kernelspec": {
   "display_name": "Python 3",
   "language": "python",
   "name": "python3"
  },
  "language_info": {
   "codemirror_mode": {
    "name": "ipython",
    "version": 3
   },
   "file_extension": ".py",
   "mimetype": "text/x-python",
   "name": "python",
   "nbconvert_exporter": "python",
   "pygments_lexer": "ipython3",
   "version": "3.7.9"
  }
 },
 "nbformat": 4,
 "nbformat_minor": 2
}
