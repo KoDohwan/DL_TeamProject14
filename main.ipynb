{
 "cells": [
  {
   "cell_type": "code",
   "execution_count": 66,
   "metadata": {},
   "outputs": [],
   "source": [
    "import torch\n",
    "import torch.nn as nn\n",
    "import torch.optim as optim\n",
    "\n",
    "import torchvision\n",
    "import torchvision.transforms as transforms\n",
    "\n",
    "import matplotlib.pyplot as plt\n",
    "import numpy as np\n",
    "import os\n",
    "import sys\n",
    "\n",
    "from tqdm import tqdm\n",
    "\n",
    "from resnet import ResNet18"
   ]
  },
  {
   "cell_type": "code",
   "execution_count": 3,
   "metadata": {},
   "outputs": [
    {
     "name": "stdout",
     "output_type": "stream",
     "text": [
      "GeForce RTX 2070 SUPER\n"
     ]
    }
   ],
   "source": [
    "if torch.cuda.is_available() == True:\n",
    "    device = torch.device('cuda:0')\n",
    "    print(torch.cuda.get_device_name())\n",
    "else:\n",
    "    device = torch.device('cpu')"
   ]
  },
  {
   "cell_type": "code",
   "execution_count": 64,
   "metadata": {},
   "outputs": [
    {
     "name": "stdout",
     "output_type": "stream",
     "text": [
      "Files already downloaded and verified\n",
      "Files already downloaded and verified\n"
     ]
    }
   ],
   "source": [
    "batch_size = 128\n",
    "\n",
    "transform_train = transforms.Compose([transforms.RandomCrop(32, padding=4), transforms.RandomHorizontalFlip(), \n",
    "                                transforms.ToTensor(), transforms.Normalize((0.4914, 0.4822, 0.4465), (0.2023, 0.1994, 0.2010))])\n",
    "transform_test = transforms.Compose([transforms.ToTensor(), transforms.Normalize((0.4914, 0.4822, 0.4465), (0.2023, 0.1994, 0.2010))])\n",
    "\n",
    "trainset = torchvision.datasets.CIFAR10(root='./data', train=True, download=True, transform=transform_train)\n",
    "train_loader = torch.utils.data.DataLoader(trainset, batch_size=batch_size, shuffle=True)\n",
    "\n",
    "testset = torchvision.datasets.CIFAR10(root='./data', train=False, download=True, transform=transform_test)\n",
    "test_loader = torch.utils.data.DataLoader(testset, batch_size=batch_size, shuffle=False)\n",
    "\n",
    "bar_format = '{bar:30} {n_fmt}/{total_fmt} [{elapsed}<{remaining} {rate_fmt}] {desc}'\n",
    "classes = ('plane', 'car', 'bird', 'cat', 'deer', 'dog', 'frog', 'horse', 'ship', 'truck')"
   ]
  },
  {
   "cell_type": "code",
   "execution_count": 12,
   "metadata": {},
   "outputs": [],
   "source": [
    "def imshow(img):\n",
    "    img[0] = img[0] * 0.2023 + 0.4914\n",
    "    img[1] = img[1] * 0.1994 + 0.4822\n",
    "    img[2] = img[2] * 0.2010 + 0.4465\n",
    "    npimg = img.numpy()\n",
    "    plt.imshow(np.transpose(npimg, (1, 2, 0)))\n",
    "    plt.show()"
   ]
  },
  {
   "cell_type": "code",
   "execution_count": 63,
   "metadata": {},
   "outputs": [],
   "source": [
    "def train(model):\n",
    "    model.train()\n",
    "    train_loss = 0\n",
    "    total = 0\n",
    "    correct = 0\n",
    "    step = 0\n",
    "    train_iter = tqdm(enumerate(train_loader), total=len(train_loader), unit_scale=batch_size, bar_format=bar_format)\n",
    "    for i, (batch, label) in train_iter:\n",
    "        batch, label = batch.to(device), label.to(device)\n",
    "        output = model(batch)\n",
    "        \n",
    "        optimizer.zero_grad()\n",
    "        loss = loss_function(output, label)\n",
    "        loss.backward()\n",
    "        optimizer.step()\n",
    "        \n",
    "        train_loss += loss.item()\n",
    "        _, predicted = output.max(1)\n",
    "        total += label.size(0)\n",
    "        correct += predicted.eq(label).sum().item()\n",
    "\n",
    "        acc = 100. * correct / total\n",
    "        train_iter.set_description(f'[{acc:.2f}% ({correct}/{total})]', False)"
   ]
  },
  {
   "cell_type": "code",
   "execution_count": 62,
   "metadata": {},
   "outputs": [],
   "source": [
    "def test(model):\n",
    "    model.eval()\n",
    "    test_loss = 0\n",
    "    correct = 0\n",
    "    total = 0\n",
    "    test_iter = tqdm(enumerate(test_loader), total=len(test_loader), unit_scale=batch_size, bar_format=bar_format)\n",
    "    with torch.no_grad():\n",
    "        for i, (batch, label) in test_iter:\n",
    "            batch, label = batch.to(device), label.to(device)\n",
    "            output = model(batch)\n",
    "            loss = loss_function(output, label)\n",
    "\n",
    "            test_loss += loss.item()\n",
    "            _, predicted = output.max(1)\n",
    "            total += label.size(0)\n",
    "            correct += predicted.eq(label).sum().item()\n",
    "            \n",
    "            acc = 100. * correct / total\n",
    "            test_iter.set_description(f'[{acc:.2f}%({correct}/{total})]', False)\n",
    "    return acc"
   ]
  },
  {
   "cell_type": "code",
   "execution_count": 67,
   "metadata": {},
   "outputs": [],
   "source": [
    "def save_model(epoch, acc, optimizer):\n",
    "    global best_acc\n",
    "    if acc > best_acc:\n",
    "        state = {\n",
    "            'model': model.state_dict(),\n",
    "            'acc': acc,\n",
    "            'epoch': epoch,\n",
    "            'optimizer': optimizer.state_dict()\n",
    "        }\n",
    "        if not os.path.isdir('models'):\n",
    "            os.mkdir('models')\n",
    "        torch.save(state, f'./models/model_{epoch}.pth')\n",
    "        best_acc = acc\n",
    "        print('Saving Model...')\n",
    "\n",
    "def load_model(name):\n",
    "    state_dict = torch.load(f'./models/{name}.pth', map_location=device)\n",
    "    model = ResNet18()\n",
    "    model.to(device)\n",
    "    model.load_state_dict(state_dict['model'])\n",
    "    optimizer = optim.SGD(model.parameters(), lr=1e-1, momentum=0.9, weight_decay=1e-4)\n",
    "#     optimizer.load_state_dict(state_dict['optimizer'])\n",
    "    return model, optimizer"
   ]
  },
  {
   "cell_type": "code",
   "execution_count": 9,
   "metadata": {},
   "outputs": [],
   "source": [
    "def decaying_learning_rate(optimizer, epoch):\n",
    "    lr = 1e-1\n",
    "    if epoch >= 100:\n",
    "        lr /= 10\n",
    "    if epoch >= 150:\n",
    "        lr /= 10\n",
    "    for param_group in optimizer.param_groups:\n",
    "        param_group['lr'] = lr"
   ]
  },
  {
   "cell_type": "code",
   "execution_count": 70,
   "metadata": {},
   "outputs": [
    {
     "name": "stderr",
     "output_type": "stream",
     "text": [
      "                               128/50048 [00:00<00:49 999.78it/s] [10.94% (14/128)]: "
     ]
    },
    {
     "name": "stdout",
     "output_type": "stream",
     "text": [
      "Epoch 1\n"
     ]
    },
    {
     "name": "stderr",
     "output_type": "stream",
     "text": [
      "██████████████████████████████ 50048/50048 [00:47<00:00 1062.61it/s] [33.84% (16922/50000)]: \n",
      "██████████████████████████████ 10112/10112 [00:02<00:00 3514.82it/s] [43.77%(4377/10000)]: \n",
      "                               128/50048 [00:00<00:49 1007.64it/s] [38.28% (49/128)]: "
     ]
    },
    {
     "name": "stdout",
     "output_type": "stream",
     "text": [
      "Saving Model...\n",
      "Epoch 2\n"
     ]
    },
    {
     "name": "stderr",
     "output_type": "stream",
     "text": [
      "██████████████████████████████ 50048/50048 [00:47<00:00 1044.37it/s] [53.29% (26643/50000)]: \n",
      "██████████████████████████████ 10112/10112 [00:02<00:00 3601.49it/s] [59.68%(5968/10000)]: \n",
      "                               128/50048 [00:00<00:47 1057.62it/s] [55.47% (71/128)]: "
     ]
    },
    {
     "name": "stdout",
     "output_type": "stream",
     "text": [
      "Saving Model...\n",
      "Epoch 3\n"
     ]
    },
    {
     "name": "stderr",
     "output_type": "stream",
     "text": [
      "██████████████████████████████ 50048/50048 [00:47<00:00 1054.62it/s] [65.02% (32509/50000)]: \n",
      "██████████████████████████████ 10112/10112 [00:02<00:00 3705.76it/s] [64.24%(6424/10000)]: \n",
      "                               128/50048 [00:00<00:46 1084.50it/s] [71.09% (91/128)]: "
     ]
    },
    {
     "name": "stdout",
     "output_type": "stream",
     "text": [
      "Saving Model...\n",
      "Epoch 4\n"
     ]
    },
    {
     "name": "stderr",
     "output_type": "stream",
     "text": [
      "██████████████████████████████ 50048/50048 [00:48<00:00 1038.55it/s] [72.25% (36127/50000)]: \n",
      "██████████████████████████████ 10112/10112 [00:02<00:00 3409.71it/s] [71.53%(7153/10000)]: \n",
      "                               128/50048 [00:00<00:53 937.48it/s] [72.66% (93/128)]: "
     ]
    },
    {
     "name": "stdout",
     "output_type": "stream",
     "text": [
      "Saving Model...\n",
      "Epoch 5\n"
     ]
    },
    {
     "name": "stderr",
     "output_type": "stream",
     "text": [
      "██████████████████████████████ 50048/50048 [00:49<00:00 1017.93it/s] [78.10% (39048/50000)]: \n",
      "██████████████████████████████ 10112/10112 [00:02<00:00 3693.19it/s] [70.91%(7091/10000)]: \n",
      "                               128/50048 [00:00<00:47 1040.41it/s] [81.25% (104/128)]: "
     ]
    },
    {
     "name": "stdout",
     "output_type": "stream",
     "text": [
      "Epoch 6\n"
     ]
    },
    {
     "name": "stderr",
     "output_type": "stream",
     "text": [
      "██████████████████████████████ 50048/50048 [00:46<00:00 1069.82it/s] [81.01% (40507/50000)]: \n",
      "██████████████████████████████ 10112/10112 [00:02<00:00 3670.74it/s] [81.08%(8108/10000)]: \n",
      "                               128/50048 [00:00<00:47 1040.40it/s] [78.12% (100/128)]: "
     ]
    },
    {
     "name": "stdout",
     "output_type": "stream",
     "text": [
      "Saving Model...\n",
      "Epoch 7\n"
     ]
    },
    {
     "name": "stderr",
     "output_type": "stream",
     "text": [
      "██████████████████████████████ 50048/50048 [00:50<00:00 991.88it/s] [83.20% (41602/50000)]:  \n",
      "██████████████████████████████ 10112/10112 [00:03<00:00 3331.45it/s] [82.04%(8204/10000)]: \n",
      "                               128/50048 [00:00<00:56 882.62it/s] [85.94% (110/128)]: "
     ]
    },
    {
     "name": "stdout",
     "output_type": "stream",
     "text": [
      "Saving Model...\n",
      "Epoch 8\n"
     ]
    },
    {
     "name": "stderr",
     "output_type": "stream",
     "text": [
      "██████████████████████████████ 50048/50048 [00:58<00:00 856.29it/s] [84.98% (42491/50000)]: \n",
      "██████████████████████████████ 10112/10112 [00:03<00:00 3115.09it/s] [82.56%(8256/10000)]: \n",
      "                               128/50048 [00:00<01:02 804.85it/s] [89.84% (115/128)]: "
     ]
    },
    {
     "name": "stdout",
     "output_type": "stream",
     "text": [
      "Saving Model...\n",
      "Epoch 9\n"
     ]
    },
    {
     "name": "stderr",
     "output_type": "stream",
     "text": [
      "██████████████████████████████ 50048/50048 [00:57<00:00 866.39it/s] [86.38% (43189/50000)]: \n",
      "██████████████████████████████ 10112/10112 [00:03<00:00 3167.11it/s] [82.39%(8239/10000)]: \n",
      "                               128/50048 [00:00<00:58 847.50it/s] [86.72% (111/128)]: "
     ]
    },
    {
     "name": "stdout",
     "output_type": "stream",
     "text": [
      "Epoch 10\n"
     ]
    },
    {
     "name": "stderr",
     "output_type": "stream",
     "text": [
      "██████████████████████████████ 50048/50048 [00:49<00:00 1020.30it/s] [87.33% (43667/50000)]: \n",
      "██████████████████████████████ 10112/10112 [00:02<00:00 3679.76it/s] [84.66%(8466/10000)]: \n"
     ]
    },
    {
     "name": "stdout",
     "output_type": "stream",
     "text": [
      "Saving Model...\n"
     ]
    }
   ],
   "source": [
    "# Training\n",
    "model = ResNet18()\n",
    "model.to(device)\n",
    "loss_function = nn.CrossEntropyLoss()\n",
    "optimizer = optim.SGD(model.parameters(), lr=1e-1, momentum=0.9, weight_decay=1e-4)\n",
    "best_acc = 0\n",
    "for epoch in range(1, 11):\n",
    "    print(f'Epoch {epoch}')\n",
    "    train(model)\n",
    "    test_acc = test(model)\n",
    "    save_model(epoch, test_acc, optimizer)\n",
    "    decaying_learning_rate(optimizer, epoch)"
   ]
  },
  {
   "cell_type": "code",
   "execution_count": 71,
   "metadata": {},
   "outputs": [
    {
     "name": "stderr",
     "output_type": "stream",
     "text": [
      "██████████████████████████████ 10112/10112 [00:02<00:00 3660.27it/s] [94.53%(9453/10000)]: \n"
     ]
    },
    {
     "data": {
      "text/plain": [
       "94.53"
      ]
     },
     "execution_count": 71,
     "metadata": {},
     "output_type": "execute_result"
    }
   ],
   "source": [
    "# Validation\n",
    "model, optimizer = load_model('baseline')\n",
    "loss_function = nn.CrossEntropyLoss()\n",
    "test(model)"
   ]
  }
 ],
 "metadata": {
  "kernelspec": {
   "display_name": "Python 3",
   "language": "python",
   "name": "python3"
  },
  "language_info": {
   "codemirror_mode": {
    "name": "ipython",
    "version": 3
   },
   "file_extension": ".py",
   "mimetype": "text/x-python",
   "name": "python",
   "nbconvert_exporter": "python",
   "pygments_lexer": "ipython3",
   "version": "3.7.9"
  }
 },
 "nbformat": 4,
 "nbformat_minor": 2
}
